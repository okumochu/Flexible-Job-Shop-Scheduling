{
 "cells": [
  {
   "cell_type": "code",
   "execution_count": 18,
   "metadata": {},
   "outputs": [
    {
     "name": "stdout",
     "output_type": "stream",
     "text": [
      "Note: you may need to restart the kernel to use updated packages.\n"
     ]
    },
    {
     "name": "stderr",
     "output_type": "stream",
     "text": [
      "\n",
      "[notice] A new release of pip is available: 23.2.1 -> 24.2\n",
      "[notice] To update, run: python.exe -m pip install --upgrade pip\n"
     ]
    },
    {
     "name": "stdout",
     "output_type": "stream",
     "text": [
      "Note: you may need to restart the kernel to use updated packages.\n"
     ]
    },
    {
     "name": "stderr",
     "output_type": "stream",
     "text": [
      "\n",
      "[notice] A new release of pip is available: 23.2.1 -> 24.2\n",
      "[notice] To update, run: python.exe -m pip install --upgrade pip\n"
     ]
    }
   ],
   "source": [
    "%pip install pandas -q\n",
    "%pip install numpy -q\n",
    "\n",
    "import numpy as np\n",
    "import pandas as pd\n",
    "import random\n",
    "from collections import Counter\n",
    "import copy"
   ]
  },
  {
   "cell_type": "markdown",
   "metadata": {},
   "source": [
    "## Data Preparation"
   ]
  },
  {
   "cell_type": "code",
   "execution_count": 19,
   "metadata": {},
   "outputs": [
    {
     "name": "stdout",
     "output_type": "stream",
     "text": [
      "numJobs = 10, numMachines = 10\n",
      "number of first job's operation = 10\n",
      "number of machine that first job's operation can use = 5\n"
     ]
    }
   ],
   "source": [
    "# data = [job0, job1, .... ]\n",
    "# job1 = , [op0, op1, op2, ....]\n",
    "# op1 = [{macineNumber: , processTime: },{machineNumber: , processTime: }...]\n",
    "\n",
    "with open (\"../Dataset/abz5.fjs\",\"r\") as file:\n",
    "    firstLine = file.readline()\n",
    "    firstLineValues = [int(i) for i in firstLine.split()[0:2]]\n",
    "    NUM_JOBS = firstLineValues[0] \n",
    "    NUM_MACHINES = firstLineValues[1]\n",
    "    print(f\"numJobs = {NUM_JOBS}, numMachines = {NUM_MACHINES}\")\n",
    "    \n",
    "    data = []  \n",
    "    for txts in file.readlines():\n",
    "        jobNum = []\n",
    "        operations = txts.split()[1:]\n",
    "        index = 0\n",
    "        while index < len(operations):\n",
    "            operation = []\n",
    "            numberOfOperation = int(operations[index])\n",
    "            index += 1\n",
    "            endOperationIndex = numberOfOperation*2 + index\n",
    "            while index < endOperationIndex:\n",
    "                operation.append({\"machineNumber\": int(operations[index]), \"processTime\": int(operations[index+1])})\n",
    "                index += 2\n",
    "            jobNum.append(operation)\n",
    "        data.append(jobNum)\n",
    "        \n",
    "print(f\"number of first job's operation = {len(data[0])}\")\n",
    "print(f\"number of machine that first job's operation can use = {len(data[0][0])}\")"
   ]
  },
  {
   "cell_type": "code",
   "execution_count": 20,
   "metadata": {},
   "outputs": [],
   "source": [
    "# set we have total n orders\n",
    "# order_i (i from 1~n) = [{product: 1, qunatity: x}, ..., {prodcut: n, quantity: x}]\n",
    "# demands = [order_1, ..., order_n]\n",
    "# default 3 demands, note: product_0 can only be produced by completing job_0 \n",
    "order_1 = [{\"product\":0, \"quantity\":2}, {\"product\":1, \"quantity\":2}, {\"product\":2, \"quantity\":2}]\n",
    "order_2 = [{\"product\":5, \"quantity\":2}]\n",
    "order_3 = [{\"product\":0, \"quantity\":1}, {\"product\":1, \"quantity\":1}, {\"product\":2, \"quantity\":1}, {\"product\":3, \"quantity\":1}, {\"product\":4, \"quantity\":1}, {\"product\":5, \"quantity\":1}, {\"product\":6, \"quantity\":1}, {\"product\":7, \"quantity\":1}, {\"product\":8, \"quantity\":1}, {\"product\":9, \"quantity\":1}]\n",
    "demands = [order_1, order_2, order_3]\n",
    "\n",
    "# dueDate = [i for i in (dueDate for each order)]\n",
    "dueDate = [np.inf, np.inf, np.inf]"
   ]
  },
  {
   "cell_type": "markdown",
   "metadata": {},
   "source": [
    "## Hyper Parameter"
   ]
  },
  {
   "cell_type": "code",
   "execution_count": 21,
   "metadata": {},
   "outputs": [],
   "source": [
    "POP_SIZE = 30\n",
    "CROSSOVER_RATE = 0.7\n",
    "MAX_ITERATION = 400\n",
    "NUMBER_OF_ELITISM_SURVIVORS = 2\n",
    "NUMBER_OF_TOURNAMENT_COMPETITORS = 2"
   ]
  },
  {
   "cell_type": "markdown",
   "metadata": {},
   "source": [
    "## Generate Initial Population"
   ]
  },
  {
   "cell_type": "code",
   "execution_count": 22,
   "metadata": {},
   "outputs": [],
   "source": [
    "# Initial population = [[J0, M3], [J0, M4], [J2, M1], [J3, M2], [J0, M1], ...]\n",
    "# meaning J1 first operation use Machine 3 -> J2 first operation use Machine 4  -> J1 second operation......\n",
    "\n",
    "def generateInitailPopulation():\n",
    "    # create all jobs with specific number of operations\n",
    "    # because different Jobs could have different number of operations\n",
    "    baseArray = []\n",
    "    for orders in demands:   \n",
    "        for order in orders:\n",
    "            quantity = order[\"quantity\"]\n",
    "            for _ in range(quantity):\n",
    "                baseArray.append(order[\"product\"])\n",
    "    \n",
    "    population = []\n",
    "    # random choose that jobs operation for\n",
    "    for _ in range(POP_SIZE):\n",
    "        # how many operations have done\n",
    "        operationCounter = Counter()\n",
    "        individual = []\n",
    "        baseArray = np.random.permutation(baseArray)\n",
    "        for jobNum in baseArray:\n",
    "            machine = random.choice(data[jobNum][operationCounter[jobNum]])\n",
    "            operationCounter[jobNum]+=1\n",
    "            individual.append([jobNum, machine[\"machineNumber\"]])\n",
    "            # if one job is finished (all operation has been done), then restart counting\n",
    "            if operationCounter[jobNum] == len(data[jobNum]):\n",
    "                operationCounter[jobNum] = 0\n",
    "        population.append(individual)\n",
    "    return population"
   ]
  },
  {
   "cell_type": "markdown",
   "metadata": {},
   "source": [
    "## Repairment"
   ]
  },
  {
   "cell_type": "code",
   "execution_count": 23,
   "metadata": {},
   "outputs": [],
   "source": [
    "# repairment deal with infieasible solution (the operation can't performed by that machine)\n",
    "# When happens, it randomly choose a feasilbe machine that can perform that operation\n",
    "def repair(unrepaired):\n",
    "    operationCounter = Counter()\n",
    "    repairedList = copy.deepcopy(unrepaired)\n",
    "    for i in range(len(unrepaired)):\n",
    "        jobNum = unrepaired[i][0]\n",
    "        machineNum = unrepaired[i][1]\n",
    "        machines = [i[\"machineNumber\"] for i in data[jobNum][operationCounter[jobNum]]]\n",
    "        if machineNum not in machines:\n",
    "            repairedList[i][1] = random.choice(machines)\n",
    "        operationCounter[jobNum]+=1\n",
    "        # if one job is finished (all operation has been done), then restart counting\n",
    "        if operationCounter[jobNum] == len(data[jobNum]):\n",
    "            operationCounter[jobNum] = 0\n",
    "    return repairedList"
   ]
  },
  {
   "cell_type": "markdown",
   "metadata": {},
   "source": [
    "## Fitness Evaluation"
   ]
  },
  {
   "cell_type": "code",
   "execution_count": 24,
   "metadata": {},
   "outputs": [],
   "source": [
    "# note: when a job finished, a product will be deleiver to an ordered that is the most urgent(valuable)\n",
    "def evaluateFitnessScore(chromosome):\n",
    "    \n",
    "    # OperationCounter shows how many times of operation have been done\n",
    "    # jobEndCounter shows the time that last Ji ends\n",
    "    # machineTimeCounter shows the time that last job ends\n",
    "    # sortedDemands shows the number of jobs rest to be done in required order (urgency)\n",
    "    operationCounter = Counter()\n",
    "    jobEndCounter = Counter()\n",
    "    machineTimeCounter = Counter()\n",
    "    sortedDemands = [(demands[i],dueDate[i]) for i in sorted(range(len(dueDate)), key=lambda x: dueDate[x])]\n",
    "\n",
    "    tardiness = 0\n",
    "    for jobIteration in chromosome:\n",
    "        jobNum = jobIteration[0]\n",
    "        machineNumber = jobIteration[1]\n",
    "        \n",
    "        # calculate the duration of that specific operation\n",
    "        operationsDictList = data[jobNum][operationCounter[jobNum]]\n",
    "        duration = [i[\"processTime\"] for i in operationsDictList if i[\"machineNumber\"] == machineNumber][0]\n",
    "         \n",
    "        # update the counter\n",
    "        machineTimeCounter[machineNumber] = max(machineTimeCounter[machineNumber], jobEndCounter[jobNum])\n",
    "        machineTimeCounter[machineNumber] += duration\n",
    "        jobEndCounter[jobNum] = machineTimeCounter[machineNumber]\n",
    "        operationCounter[jobNum] += 1\n",
    "        \n",
    "        # if one job is finished (all operation has been done), then restart counting\n",
    "        if operationCounter[jobNum] == len(data[jobNum]):\n",
    "            operationCounter[jobNum] = 0\n",
    "            for index in range(len(sortedDemands)):\n",
    "                for order in sortedDemands[index][0]:\n",
    "                    if order[\"product\"] == jobNum and order[\"quantity\"]!=0 :\n",
    "                        order[\"quantity\"] -= 1\n",
    "                        break\n",
    "                    \n",
    "            # calcualte tardiness\n",
    "            for index in range(len(sortedDemands)):\n",
    "                done = 1\n",
    "                for order in sortedDemands[index][0]:\n",
    "                    if order[\"quantity\"] != 0:\n",
    "                        done = 0\n",
    "                if done == 1:\n",
    "                    tardiness += max(0, jobEndCounter[jobNum] - sortedDemands[index][1])\n",
    "                    del sortedDemands[index]\n",
    "                    \n",
    "                \n",
    "    # calcualte makespan \n",
    "    makespan = jobEndCounter.most_common(1)[0][1]\n",
    "    \n",
    "    return makespan + tardiness\n"
   ]
  },
  {
   "cell_type": "markdown",
   "metadata": {},
   "source": [
    "## Selection"
   ]
  },
  {
   "cell_type": "code",
   "execution_count": 25,
   "metadata": {},
   "outputs": [],
   "source": [
    "# Tournament method\n",
    "def selection(populatoinWithMakespan):\n",
    "    population = populatoinWithMakespan[\"population\"]\n",
    "    makespan = populatoinWithMakespan[\"makespan\"]\n",
    "    selected = []\n",
    "    for _ in range(2):\n",
    "        competitors = np.random.permutation(len(population))[:NUMBER_OF_TOURNAMENT_COMPETITORS]\n",
    "        \n",
    "        v = max(makespan[i] for i in competitors)\n",
    "        for i in competitors:\n",
    "            if makespan[i]==v:\n",
    "                selected.append([population[i], makespan[i]])\n",
    "                break\n",
    "        \n",
    "    return pd.DataFrame(selected,columns=[\"population\", \"makespan\"])"
   ]
  },
  {
   "cell_type": "markdown",
   "metadata": {},
   "source": [
    "##  Crossover & Mutation"
   ]
  },
  {
   "cell_type": "code",
   "execution_count": 26,
   "metadata": {},
   "outputs": [],
   "source": [
    "# Davis’ Order Crossover \n",
    "def crossover(individual1, individual2):\n",
    "    length = len(individual1)\n",
    "\n",
    "    # Initialize the offspring with None values\n",
    "    offspring1 = [None] * length\n",
    "    offspring2 = [None] * length\n",
    "    \n",
    "    # Choose two crossover points\n",
    "    cxpoint1, cxpoint2 = sorted(random.sample(range(length), 2))\n",
    "    \n",
    "    # Copy the sub-sequence from parent1 to offspring1 and parent2 to offspring2\n",
    "    offspring1[cxpoint1:cxpoint2] = individual1[cxpoint1:cxpoint2]\n",
    "    offspring2[cxpoint1:cxpoint2] = individual2[cxpoint1:cxpoint2]\n",
    "    \n",
    "    # Create a counter for each offspring\n",
    "    counter1 = Counter(i[0] for i in individual1) - Counter(i[0] for i in offspring2[cxpoint1:cxpoint2]) \n",
    "    counter2 = Counter(i[0] for i in individual2) - Counter(i[0] for i in offspring1[cxpoint1:cxpoint2])\n",
    "    \n",
    "    def fill_offspring(parent, offspring, counter):\n",
    "        current_pos = 0\n",
    "        for gene in parent:\n",
    "            jobNum = gene[0]\n",
    "            machineNum = gene[1]\n",
    "            if counter[jobNum] > 0:\n",
    "                while offspring[current_pos] is not None:\n",
    "                    current_pos = (current_pos + 1) % length\n",
    "                offspring[current_pos] = [jobNum, machineNum]  \n",
    "                counter[jobNum] -= 1\n",
    "        # If there are still None values left, fill them with remaining genes\n",
    "        for i in range(length):\n",
    "            if offspring[i] is None:\n",
    "                offspring[i] = parent[current_pos]\n",
    "                current_pos = (current_pos + 1) % length\n",
    "    \n",
    "    # Fill the rest of the genes in the offspring\n",
    "    fill_offspring(individual2, offspring1, counter1)\n",
    "    fill_offspring(individual1, offspring2, counter2)\n",
    "    \n",
    "    return [repair(offspring1), repair(offspring2)]\n",
    "\n",
    "# Change side if \n",
    "def mutate(individual):\n",
    "    mutateOffspring = copy.deepcopy(individual)\n",
    "    i, j = random.sample(range(len(individual)), 2)\n",
    "    mutateOffspring[i], mutateOffspring[j] = mutateOffspring[j], mutateOffspring[i]\n",
    "    return repair(mutateOffspring)"
   ]
  },
  {
   "cell_type": "markdown",
   "metadata": {},
   "source": [
    "## Elitism Strategy"
   ]
  },
  {
   "cell_type": "code",
   "execution_count": 27,
   "metadata": {},
   "outputs": [],
   "source": [
    "def elitismStrategy(population):\n",
    "    sorted_df = population.sort_values(by=[\"makespan\"], ascending=[True])\n",
    "    survivors_df = sorted_df.head(NUMBER_OF_ELITISM_SURVIVORS)\n",
    "    return survivors_df"
   ]
  },
  {
   "cell_type": "markdown",
   "metadata": {},
   "source": [
    "## Main Function"
   ]
  },
  {
   "cell_type": "code",
   "execution_count": 28,
   "metadata": {},
   "outputs": [
    {
     "name": "stdout",
     "output_type": "stream",
     "text": [
      "interation: 1\n",
      "best makespan: 315 \n",
      "\n"
     ]
    },
    {
     "ename": "KeyboardInterrupt",
     "evalue": "",
     "output_type": "error",
     "traceback": [
      "\u001b[1;31m---------------------------------------------------------------------------\u001b[0m",
      "\u001b[1;31mKeyboardInterrupt\u001b[0m                         Traceback (most recent call last)",
      "Cell \u001b[1;32mIn[28], line 24\u001b[0m\n\u001b[0;32m     22\u001b[0m selectedIndividual \u001b[38;5;241m=\u001b[39m selection(pd\u001b[38;5;241m.\u001b[39mDataFrame(scoredPopulationList,columns\u001b[38;5;241m=\u001b[39m[\u001b[38;5;124m\"\u001b[39m\u001b[38;5;124mpopulation\u001b[39m\u001b[38;5;124m\"\u001b[39m, \u001b[38;5;124m\"\u001b[39m\u001b[38;5;124mmakespan\u001b[39m\u001b[38;5;124m\"\u001b[39m]))\n\u001b[0;32m     23\u001b[0m \u001b[38;5;28;01mif\u001b[39;00m random\u001b[38;5;241m.\u001b[39mrandom() \u001b[38;5;241m<\u001b[39m CROSSOVER_RATE:\n\u001b[1;32m---> 24\u001b[0m     offsprings \u001b[38;5;241m=\u001b[39m \u001b[43mcrossover\u001b[49m\u001b[43m(\u001b[49m\u001b[43mselectedIndividual\u001b[49m\u001b[38;5;241;43m.\u001b[39;49m\u001b[43miloc\u001b[49m\u001b[43m[\u001b[49m\u001b[38;5;241;43m0\u001b[39;49m\u001b[43m,\u001b[49m\u001b[38;5;241;43m0\u001b[39;49m\u001b[43m]\u001b[49m\u001b[43m,\u001b[49m\u001b[43mselectedIndividual\u001b[49m\u001b[38;5;241;43m.\u001b[39;49m\u001b[43miloc\u001b[49m\u001b[43m[\u001b[49m\u001b[38;5;241;43m1\u001b[39;49m\u001b[43m,\u001b[49m\u001b[38;5;241;43m0\u001b[39;49m\u001b[43m]\u001b[49m\u001b[43m)\u001b[49m\n\u001b[0;32m     25\u001b[0m     \u001b[38;5;28;01mfor\u001b[39;00m offspring \u001b[38;5;129;01min\u001b[39;00m offsprings:\n\u001b[0;32m     26\u001b[0m         makespan \u001b[38;5;241m=\u001b[39m evaluateFitnessScore(offspring)\n",
      "Cell \u001b[1;32mIn[26], line 33\u001b[0m, in \u001b[0;36mcrossover\u001b[1;34m(individual1, individual2)\u001b[0m\n\u001b[0;32m     31\u001b[0m \u001b[38;5;66;03m# Fill the rest of the genes in the offspring\u001b[39;00m\n\u001b[0;32m     32\u001b[0m fill_offspring(individual2, offspring1, counter1)\n\u001b[1;32m---> 33\u001b[0m \u001b[43mfill_offspring\u001b[49m\u001b[43m(\u001b[49m\u001b[43mindividual1\u001b[49m\u001b[43m,\u001b[49m\u001b[43m \u001b[49m\u001b[43moffspring2\u001b[49m\u001b[43m,\u001b[49m\u001b[43m \u001b[49m\u001b[43mcounter2\u001b[49m\u001b[43m)\u001b[49m\n\u001b[0;32m     35\u001b[0m \u001b[38;5;28;01mreturn\u001b[39;00m [repair(offspring1), repair(offspring2)]\n",
      "Cell \u001b[1;32mIn[26], line 26\u001b[0m, in \u001b[0;36mcrossover.<locals>.fill_offspring\u001b[1;34m(parent, offspring, counter)\u001b[0m\n\u001b[0;32m     24\u001b[0m machineNum \u001b[38;5;241m=\u001b[39m gene[\u001b[38;5;241m1\u001b[39m]\n\u001b[0;32m     25\u001b[0m \u001b[38;5;28;01mif\u001b[39;00m counter[jobNum] \u001b[38;5;241m>\u001b[39m \u001b[38;5;241m0\u001b[39m:\n\u001b[1;32m---> 26\u001b[0m     \u001b[38;5;28;01mwhile\u001b[39;00m offspring[current_pos] \u001b[38;5;129;01mis\u001b[39;00m \u001b[38;5;129;01mnot\u001b[39;00m \u001b[38;5;28;01mNone\u001b[39;00m:\n\u001b[0;32m     27\u001b[0m         current_pos \u001b[38;5;241m=\u001b[39m (current_pos \u001b[38;5;241m+\u001b[39m \u001b[38;5;241m1\u001b[39m) \u001b[38;5;241m%\u001b[39m length\n\u001b[0;32m     28\u001b[0m     offspring[current_pos] \u001b[38;5;241m=\u001b[39m [jobNum, machineNum]  \n",
      "\u001b[1;31mKeyboardInterrupt\u001b[0m: "
     ]
    }
   ],
   "source": [
    "\n",
    "iteration = 0\n",
    "populationList = []\n",
    "lineGraphDataList = []\n",
    "elitismIndividualDF = pd.DataFrame()\n",
    "\n",
    "while(iteration <= MAX_ITERATION):\n",
    "    if len(populationList) == 0 :\n",
    "        populationList = generateInitailPopulation()\n",
    "    else:\n",
    "        populationList = [i[0] for i in offspringList]\n",
    "        \n",
    "    # scored the population\n",
    "    scoredPopulationList = []\n",
    "    for chromosome in populationList:\n",
    "        makespan = evaluateFitnessScore(chromosome)\n",
    "        scoredPopulationList.append([chromosome, makespan])\n",
    "    \n",
    "    # select two individual from the population and crossover & mutation until meet the pop size\n",
    "    offspringList = []\n",
    "    scoredPopulationList.extend(elitismIndividualDF.values)\n",
    "    while len(offspringList) <= POP_SIZE:\n",
    "        selectedIndividual = selection(pd.DataFrame(scoredPopulationList,columns=[\"population\", \"makespan\"]))\n",
    "        if random.random() < CROSSOVER_RATE:\n",
    "            offsprings = crossover(selectedIndividual.iloc[0,0],selectedIndividual.iloc[1,0])\n",
    "            for offspring in offsprings:\n",
    "                makespan = evaluateFitnessScore(offspring)\n",
    "                offspringList.append([offspring, makespan])\n",
    "        else:\n",
    "            offspring = mutate(selectedIndividual.iloc[0,0])\n",
    "            makespan = evaluateFitnessScore(offspring)\n",
    "            offspringList.append([offspring, makespan])\n",
    "\n",
    "    \n",
    "    # sort by makespan (ascending)\n",
    "    offspringList.extend(elitismIndividualDF.values)\n",
    "    elitismIndividualDF = elitismStrategy(pd.DataFrame(offspringList, columns=[\"population\", \"makespan\"]))\n",
    "    \n",
    "    iteration+=1\n",
    "    lineGraphDataList.append(elitismIndividualDF.iloc[0,1])\n",
    "    print(f\"interation: {iteration}\")\n",
    "    print(f\"best makespan: {elitismIndividualDF.iloc[0,1]} \\n\")"
   ]
  },
  {
   "cell_type": "code",
   "execution_count": null,
   "metadata": {},
   "outputs": [],
   "source": [
    "import matplotlib.pyplot as plt\n",
    "\n",
    "plt.plot(range(len(lineGraphDataList)), lineGraphDataList, label='makespan')\n",
    "plt.xlabel('Period')\n",
    "plt.ylabel('Value')\n",
    "plt.title('Trend of Makespan')\n",
    "plt.legend()\n",
    "plt.grid(True)\n",
    "plt.show()"
   ]
  },
  {
   "cell_type": "code",
   "execution_count": null,
   "metadata": {},
   "outputs": [],
   "source": [
    "def evaluateFitnessScore2(chromosome):\n",
    "    \n",
    "    # Job shows how many times of operation have been done\n",
    "    # Job_end shows the time that last Ji ends\n",
    "    # machine time shows the time that last job ends\n",
    "    jobCounter = Counter()\n",
    "    jobEndCounter = Counter()\n",
    "    machineTimeCounter = Counter()\n",
    "    \n",
    "    for jobIteration in chromosome:\n",
    "        jobNumber = jobIteration[0]\n",
    "        machineNumber = jobIteration[1]\n",
    "        \n",
    "        # calculate the duration of that specific operation\n",
    "        operationsDictList = data[jobNumber][jobCounter[jobNumber]]\n",
    "        duration = [i[\"processTime\"] for i in operationsDictList if i[\"machineNumber\"] == machineNumber][0]\n",
    "         \n",
    "        # update the counter\n",
    "        machineTimeCounter[machineNumber] = max(machineTimeCounter[machineNumber], jobEndCounter[jobNumber])\n",
    "        machineTimeCounter[machineNumber] += duration\n",
    "        jobEndCounter[jobNumber] = machineTimeCounter[machineNumber]\n",
    "        jobCounter[jobNumber] += 1\n",
    "        \n",
    "    # calcualte makespan & tardiness\n",
    "    makespan = jobEndCounter.most_common(1)[0][1]\n",
    "    \n",
    "    return makespan, jobEndCounter"
   ]
  },
  {
   "cell_type": "code",
   "execution_count": null,
   "metadata": {},
   "outputs": [],
   "source": [
    "print(elitismIndividualDF.iloc[0])\n",
    "score, counter = evaluateFitnessScore2(elitismIndividualDF.iloc[0, 0])\n",
    "print(counter)\n",
    "counter.keys()"
   ]
  }
 ],
 "metadata": {
  "kernelspec": {
   "display_name": "Python 3",
   "language": "python",
   "name": "python3"
  },
  "language_info": {
   "codemirror_mode": {
    "name": "ipython",
    "version": 3
   },
   "file_extension": ".py",
   "mimetype": "text/x-python",
   "name": "python",
   "nbconvert_exporter": "python",
   "pygments_lexer": "ipython3",
   "version": "3.12.1"
  }
 },
 "nbformat": 4,
 "nbformat_minor": 2
}
