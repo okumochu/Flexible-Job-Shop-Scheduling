{
 "cells": [
  {
   "cell_type": "code",
   "execution_count": 13,
   "metadata": {},
   "outputs": [
    {
     "name": "stdout",
     "output_type": "stream",
     "text": [
      "Requirement already satisfied: pip in /Library/Frameworks/Python.framework/Versions/3.12/lib/python3.12/site-packages (24.0)\n",
      "Collecting pip\n",
      "  Downloading pip-24.2-py3-none-any.whl.metadata (3.6 kB)\n",
      "Downloading pip-24.2-py3-none-any.whl (1.8 MB)\n",
      "\u001b[2K   \u001b[90m━━━━━━━━━━━━━━━━━━━━━━━━━━━━━━━━━━━━━━━━\u001b[0m \u001b[32m1.8/1.8 MB\u001b[0m \u001b[31m694.7 kB/s\u001b[0m eta \u001b[36m0:00:00\u001b[0m00:01\u001b[0m00:01\u001b[0m\n",
      "\u001b[?25hInstalling collected packages: pip\n",
      "  Attempting uninstall: pip\n",
      "    Found existing installation: pip 24.0\n",
      "    Uninstalling pip-24.0:\n",
      "      Successfully uninstalled pip-24.0\n",
      "Successfully installed pip-24.2\n",
      "Note: you may need to restart the kernel to use updated packages.\n"
     ]
    }
   ],
   "source": [
    "%pip install --upgrade pip"
   ]
  },
  {
   "cell_type": "code",
   "execution_count": 14,
   "metadata": {},
   "outputs": [
    {
     "name": "stdout",
     "output_type": "stream",
     "text": [
      "Note: you may need to restart the kernel to use updated packages.\n",
      "Note: you may need to restart the kernel to use updated packages.\n",
      "Note: you may need to restart the kernel to use updated packages.\n",
      "\u001b[31mERROR: Could not find a version that satisfies the requirement msvc-runtime (from versions: none)\u001b[0m\u001b[31m\n",
      "\u001b[0m\u001b[31mERROR: No matching distribution found for msvc-runtime\u001b[0m\u001b[31m\n",
      "\u001b[0mNote: you may need to restart the kernel to use updated packages.\n",
      "Note: you may need to restart the kernel to use updated packages.\n",
      "Note: you may need to restart the kernel to use updated packages.\n"
     ]
    }
   ],
   "source": [
    "%pip install pandas -q\n",
    "%pip install numpy -q\n",
    "%pip install matplotlib -q\n",
    "%pip install msvc-runtime -q\n",
    "%pip install plotly -q\n",
    "%pip install nbformat -q\n",
    "import numpy as np\n",
    "import pandas as pd\n",
    "import random\n",
    "from collections import Counter\n",
    "import copy"
   ]
  },
  {
   "cell_type": "markdown",
   "metadata": {},
   "source": [
    "## Data Preparation"
   ]
  },
  {
   "cell_type": "code",
   "execution_count": 15,
   "metadata": {},
   "outputs": [
    {
     "name": "stdout",
     "output_type": "stream",
     "text": [
      "numJobs = 10, numMachines = 10\n",
      "number of first job's operation = 10\n",
      "number of machine that first job's operation can use = 5\n"
     ]
    }
   ],
   "source": [
    "# data = [job0, job1, .... ]\n",
    "# job1 = , [op0, op1, op2, ....]\n",
    "# op1 = [{macineNumber: , processTime: },{machineNumber: , processTime: }...]\n",
    "\n",
    "with open (\"../Dataset/abz5.fjs\",\"r\") as file:\n",
    "    firstLine = file.readline()\n",
    "    firstLineValues = [int(i) for i in firstLine.split()[0:2]]\n",
    "    NUM_JOBS = firstLineValues[0] \n",
    "    NUM_MACHINES = firstLineValues[1]\n",
    "    print(f\"numJobs = {NUM_JOBS}, numMachines = {NUM_MACHINES}\")\n",
    "    \n",
    "    data = []  \n",
    "    for txts in file.readlines():\n",
    "        jobNum = []\n",
    "        operations = txts.split()[1:]\n",
    "        index = 0\n",
    "        while index < len(operations):\n",
    "            operation = []\n",
    "            numberOfOperation = int(operations[index])\n",
    "            index += 1\n",
    "            endOperationIndex = numberOfOperation*2 + index\n",
    "            while index < endOperationIndex:\n",
    "                operation.append({\"machineNumber\": int(operations[index]), \"processTime\": int(operations[index+1])})\n",
    "                index += 2\n",
    "            jobNum.append(operation)\n",
    "        data.append(jobNum)\n",
    "        \n",
    "print(f\"number of first job's operation = {len(data[0])}\")\n",
    "print(f\"number of machine that first job's operation can use = {len(data[0][0])}\")"
   ]
  },
  {
   "cell_type": "code",
   "execution_count": 16,
   "metadata": {},
   "outputs": [],
   "source": [
    "# set we have total n orders\n",
    "# order_i (i from 1~n) = [{product: 1, qunatity: x}, ..., {prodcut: n, quantity: x}]\n",
    "# demands = [order_1, ..., order_n]\n",
    "# default 3 orders, note: product_0 can only be produced by completing job_0 \n",
    "order_1 = [{\"product\":0, \"quantity\":2}, {\"product\":1, \"quantity\":2}, {\"product\":2, \"quantity\":2}]\n",
    "order_2 = [{\"product\":5, \"quantity\":2}]\n",
    "order_3 = [{\"product\":0, \"quantity\":1}, {\"product\":1, \"quantity\":1}, {\"product\":2, \"quantity\":1}, {\"product\":3, \"quantity\":1}, {\"product\":4, \"quantity\":1}, {\"product\":5, \"quantity\":1}, {\"product\":6, \"quantity\":1}, {\"product\":7, \"quantity\":1}, {\"product\":8, \"quantity\":1}, {\"product\":9, \"quantity\":1}]\n",
    "demands = [order_1, order_2, order_3]\n",
    "\n",
    "# dueDate = [i for i in (dueDate for each order)]\n",
    "dueDate = [np.inf, np.inf, np.inf]"
   ]
  },
  {
   "cell_type": "markdown",
   "metadata": {},
   "source": [
    "## Hyper Parameter"
   ]
  },
  {
   "cell_type": "code",
   "execution_count": 17,
   "metadata": {},
   "outputs": [],
   "source": [
    "POP_SIZE = 30\n",
    "CROSSOVER_RATE = 0.7\n",
    "MAX_ITERATION = 400\n",
    "NUMBER_OF_ELITISM_SURVIVORS = 2\n",
    "NUMBER_OF_TOURNAMENT_COMPETITORS = 2"
   ]
  },
  {
   "cell_type": "markdown",
   "metadata": {},
   "source": [
    "## Generate Initial Population"
   ]
  },
  {
   "cell_type": "code",
   "execution_count": 18,
   "metadata": {},
   "outputs": [],
   "source": [
    "# Initial population = [[J0, M3], [J0, M4], [J2, M1], [J3, M2], [J0, M1], ...]\n",
    "# meaning J1 first operation use Machine 3 -> J2 first operation use Machine 4  -> J1 second operation......\n",
    "\n",
    "def generateInitailPopulation():\n",
    "    # create all jobs with specific number of operations\n",
    "    # because different Jobs could have different number of operations\n",
    "    baseArray = []\n",
    "    for orders in demands:   \n",
    "        for order in orders:\n",
    "            quantity = order[\"quantity\"]\n",
    "            for _ in range(quantity):\n",
    "                jobNum = order[\"product\"]\n",
    "                baseArray.extend(np.tile(jobNum, len(data[jobNum])))\n",
    "    \n",
    "    population = []\n",
    "    # random choose that jobs operation for\n",
    "    for _ in range(POP_SIZE):\n",
    "        # how many operations have done\n",
    "        operationCounter = Counter()\n",
    "        individual = []\n",
    "        baseArray = np.random.permutation(baseArray)\n",
    "        for jobNum in baseArray:\n",
    "            machine = random.choice(data[jobNum][operationCounter[jobNum]])\n",
    "            operationCounter[jobNum]+=1\n",
    "            individual.append([jobNum, machine[\"machineNumber\"]])\n",
    "            # if one job is finished (all operation has been done), then restart counting\n",
    "            if operationCounter[jobNum] == len(data[jobNum]):\n",
    "                operationCounter[jobNum] = 0\n",
    "        population.append(individual)\n",
    "    return population"
   ]
  },
  {
   "cell_type": "markdown",
   "metadata": {},
   "source": [
    "## Repairment"
   ]
  },
  {
   "cell_type": "code",
   "execution_count": 19,
   "metadata": {},
   "outputs": [],
   "source": [
    "# repairment deal with infieasible solution (the operation can't performed by that machine)\n",
    "# When happens, it randomly choose a feasilbe machine that can perform that operation\n",
    "def repair(unrepaired):\n",
    "    operationCounter = Counter()\n",
    "    repairedList = copy.deepcopy(unrepaired)\n",
    "    for i in range(len(unrepaired)):\n",
    "        jobNum = unrepaired[i][0]\n",
    "        machineNum = unrepaired[i][1]\n",
    "        machines = [i[\"machineNumber\"] for i in data[jobNum][operationCounter[jobNum]]]\n",
    "        if machineNum not in machines:\n",
    "            repairedList[i][1] = random.choice(machines)\n",
    "        operationCounter[jobNum]+=1\n",
    "        # if one job is finished (all operation has been done), then restart counting\n",
    "        if operationCounter[jobNum] == len(data[jobNum]):\n",
    "            operationCounter[jobNum] = 0\n",
    "    return repairedList"
   ]
  },
  {
   "cell_type": "markdown",
   "metadata": {},
   "source": [
    "## Fitness Evaluation"
   ]
  },
  {
   "cell_type": "code",
   "execution_count": 20,
   "metadata": {},
   "outputs": [],
   "source": [
    "# note: when a job finished, a product will be deleiver to an ordered that is the most urgent(valuable)\n",
    "def evaluateFitnessScore(chromosome):\n",
    "    \n",
    "    # OperationCounter shows how many times of operation have been done\n",
    "    # jobEndCounter shows the time that last Ji ends\n",
    "    # machineTimeCounter shows the time that last job ends\n",
    "    # sortedDemands shows the number of jobs rest to be done in required order (urgency)\n",
    "    operationCounter = Counter()\n",
    "    jobEndCounter = Counter()\n",
    "    machineTimeCounter = Counter()\n",
    "    sortedDemands = [(demands[i],dueDate[i]) for i in sorted(range(len(dueDate)), key=lambda x: dueDate[x])]\n",
    "\n",
    "    tardiness = 0\n",
    "    for jobIteration in chromosome:\n",
    "        jobNum = jobIteration[0]\n",
    "        machineNumber = jobIteration[1]\n",
    "        \n",
    "        # calculate the duration of that specific operation\n",
    "        operationsDictList = data[jobNum][operationCounter[jobNum]]\n",
    "        duration = [i[\"processTime\"] for i in operationsDictList if i[\"machineNumber\"] == machineNumber][0]\n",
    "         \n",
    "        # update the counter\n",
    "        machineTimeCounter[machineNumber] = max(machineTimeCounter[machineNumber], jobEndCounter[jobNum])\n",
    "        machineTimeCounter[machineNumber] += duration\n",
    "        jobEndCounter[jobNum] = machineTimeCounter[machineNumber]\n",
    "        operationCounter[jobNum] += 1\n",
    "        \n",
    "        # if one job is finished (all operation has been done), then restart counting\n",
    "        if operationCounter[jobNum] == len(data[jobNum]):\n",
    "            operationCounter[jobNum] = 0\n",
    "            for index in range(len(sortedDemands)):\n",
    "                for order in sortedDemands[index][0]:\n",
    "                    if order[\"product\"] == jobNum and order[\"quantity\"]!=0 :\n",
    "                        order[\"quantity\"] -= 1\n",
    "                        break\n",
    "                    \n",
    "            # calcualte tardiness\n",
    "            index = 0\n",
    "            length = len(sortedDemands)\n",
    "            while index < length:\n",
    "                done = 1\n",
    "                for order in sortedDemands[index][0]:\n",
    "                    if order[\"quantity\"] != 0:\n",
    "                        done = 0\n",
    "                if done == 1:\n",
    "                    tardiness += max(0, jobEndCounter[jobNum] - sortedDemands[index][1])\n",
    "                    del sortedDemands[index]\n",
    "                    length -= 1\n",
    "                    continue\n",
    "                index += 1\n",
    "                    \n",
    "    # calcualte makespan \n",
    "    makespan = jobEndCounter.most_common(1)[0][1]\n",
    "    # print(f\"tardiness {tardiness}\")\n",
    "    # print(f\"makespan {jobEndCounter}\")\n",
    "    return makespan + tardiness\n"
   ]
  },
  {
   "cell_type": "markdown",
   "metadata": {},
   "source": [
    "## Selection"
   ]
  },
  {
   "cell_type": "code",
   "execution_count": 21,
   "metadata": {},
   "outputs": [],
   "source": [
    "# Tournament method\n",
    "def selection(populatoinWithMakespan):\n",
    "    population = populatoinWithMakespan[\"population\"]\n",
    "    makespan = populatoinWithMakespan[\"makespan\"]\n",
    "    selected = []\n",
    "    for _ in range(2):\n",
    "        competitors = np.random.permutation(len(population))[:NUMBER_OF_TOURNAMENT_COMPETITORS]\n",
    "        \n",
    "        v = max(makespan[i] for i in competitors)\n",
    "        for i in competitors:\n",
    "            if makespan[i]==v:\n",
    "                selected.append([population[i], makespan[i]])\n",
    "                break\n",
    "        \n",
    "    return pd.DataFrame(selected,columns=[\"population\", \"makespan\"])"
   ]
  },
  {
   "cell_type": "markdown",
   "metadata": {},
   "source": [
    "##  Crossover & Mutation"
   ]
  },
  {
   "cell_type": "code",
   "execution_count": 22,
   "metadata": {},
   "outputs": [],
   "source": [
    "# Davis’ Order Crossover \n",
    "def crossover(individual1, individual2):\n",
    "    length = len(individual1)\n",
    "\n",
    "    # Initialize the offspring with None values\n",
    "    offspring1 = [None] * length\n",
    "    offspring2 = [None] * length\n",
    "    \n",
    "    # Choose two crossover points\n",
    "    cxpoint1, cxpoint2 = sorted(random.sample(range(length), 2))\n",
    "    \n",
    "    # Copy the sub-sequence from parent1 to offspring1 and parent2 to offspring2\n",
    "    offspring1[cxpoint1:cxpoint2] = individual1[cxpoint1:cxpoint2]\n",
    "    offspring2[cxpoint1:cxpoint2] = individual2[cxpoint1:cxpoint2]\n",
    "    \n",
    "    # Create a counter for each offspring\n",
    "    counter1 = Counter(i[0] for i in individual2) - Counter(i[0] for i in offspring1[cxpoint1:cxpoint2]) \n",
    "    counter2 = Counter(i[0] for i in individual1) - Counter(i[0] for i in offspring2[cxpoint1:cxpoint2])\n",
    "    \n",
    "    def fill_offspring(parent, offspring, counter):\n",
    "        current_pos = 0\n",
    "        for gene in parent:\n",
    "            jobNum = gene[0]\n",
    "            machineNum = gene[1]\n",
    "            if counter[jobNum] > 0:\n",
    "                while offspring[current_pos] is not None:\n",
    "                    current_pos = (current_pos + 1) % length\n",
    "                offspring[current_pos] = [jobNum, machineNum]  \n",
    "                counter[jobNum] -= 1\n",
    "    \n",
    "    # Fill the rest of the genes in the offspring\n",
    "    fill_offspring(individual2, offspring1, counter1)\n",
    "    fill_offspring(individual1, offspring2, counter2)\n",
    "    \n",
    "    return [repair(offspring1), repair(offspring2)]\n",
    "\n",
    "# Change side if \n",
    "def mutate(individual):\n",
    "    mutateOffspring = copy.deepcopy(individual)\n",
    "    i, j = random.sample(range(len(individual)), 2)\n",
    "    mutateOffspring[i], mutateOffspring[j] = mutateOffspring[j], mutateOffspring[i]\n",
    "    return repair(mutateOffspring)"
   ]
  },
  {
   "cell_type": "markdown",
   "metadata": {},
   "source": [
    "## Elitism Strategy"
   ]
  },
  {
   "cell_type": "code",
   "execution_count": 23,
   "metadata": {},
   "outputs": [],
   "source": [
    "def elitismStrategy(population):\n",
    "    sorted_df = population.sort_values(by=[\"makespan\"], ascending=[True])\n",
    "    survivors_df = sorted_df.head(NUMBER_OF_ELITISM_SURVIVORS)\n",
    "    return survivors_df"
   ]
  },
  {
   "cell_type": "markdown",
   "metadata": {},
   "source": [
    "## Main Function"
   ]
  },
  {
   "cell_type": "code",
   "execution_count": 24,
   "metadata": {},
   "outputs": [
    {
     "name": "stdout",
     "output_type": "stream",
     "text": [
      "interation: 1\n",
      "best makespan: 4024 \n",
      "\n",
      "interation: 2\n",
      "best makespan: 4016 \n",
      "\n",
      "interation: 3\n",
      "best makespan: 3913 \n",
      "\n",
      "interation: 4\n",
      "best makespan: 3873 \n",
      "\n",
      "interation: 5\n",
      "best makespan: 3873 \n",
      "\n",
      "interation: 6\n",
      "best makespan: 3873 \n",
      "\n",
      "interation: 7\n",
      "best makespan: 3873 \n",
      "\n",
      "interation: 8\n",
      "best makespan: 3873 \n",
      "\n",
      "interation: 9\n",
      "best makespan: 3873 \n",
      "\n",
      "interation: 10\n",
      "best makespan: 3873 \n",
      "\n",
      "interation: 11\n",
      "best makespan: 3873 \n",
      "\n",
      "interation: 12\n",
      "best makespan: 3873 \n",
      "\n",
      "interation: 13\n",
      "best makespan: 3873 \n",
      "\n",
      "interation: 14\n",
      "best makespan: 3873 \n",
      "\n",
      "interation: 15\n",
      "best makespan: 3873 \n",
      "\n",
      "interation: 16\n",
      "best makespan: 3873 \n",
      "\n",
      "interation: 17\n",
      "best makespan: 3873 \n",
      "\n",
      "interation: 18\n",
      "best makespan: 3873 \n",
      "\n",
      "interation: 19\n",
      "best makespan: 3873 \n",
      "\n",
      "interation: 20\n",
      "best makespan: 3873 \n",
      "\n",
      "interation: 21\n",
      "best makespan: 3873 \n",
      "\n",
      "interation: 22\n",
      "best makespan: 3873 \n",
      "\n",
      "interation: 23\n",
      "best makespan: 3758 \n",
      "\n",
      "interation: 24\n",
      "best makespan: 3758 \n",
      "\n",
      "interation: 25\n",
      "best makespan: 3758 \n",
      "\n",
      "interation: 26\n",
      "best makespan: 3758 \n",
      "\n",
      "interation: 27\n",
      "best makespan: 3758 \n",
      "\n",
      "interation: 28\n",
      "best makespan: 3758 \n",
      "\n",
      "interation: 29\n",
      "best makespan: 3758 \n",
      "\n",
      "interation: 30\n",
      "best makespan: 3758 \n",
      "\n",
      "interation: 31\n",
      "best makespan: 3758 \n",
      "\n",
      "interation: 32\n",
      "best makespan: 3758 \n",
      "\n",
      "interation: 33\n",
      "best makespan: 3758 \n",
      "\n",
      "interation: 34\n",
      "best makespan: 3758 \n",
      "\n",
      "interation: 35\n",
      "best makespan: 3758 \n",
      "\n",
      "interation: 36\n",
      "best makespan: 3758 \n",
      "\n",
      "interation: 37\n",
      "best makespan: 3758 \n",
      "\n",
      "interation: 38\n",
      "best makespan: 3758 \n",
      "\n",
      "interation: 39\n",
      "best makespan: 3758 \n",
      "\n",
      "interation: 40\n",
      "best makespan: 3758 \n",
      "\n",
      "interation: 41\n",
      "best makespan: 3758 \n",
      "\n",
      "interation: 42\n",
      "best makespan: 3758 \n",
      "\n",
      "interation: 43\n",
      "best makespan: 3758 \n",
      "\n",
      "interation: 44\n",
      "best makespan: 3758 \n",
      "\n",
      "interation: 45\n",
      "best makespan: 3758 \n",
      "\n",
      "interation: 46\n",
      "best makespan: 3758 \n",
      "\n",
      "interation: 47\n",
      "best makespan: 3758 \n",
      "\n",
      "interation: 48\n",
      "best makespan: 3758 \n",
      "\n",
      "interation: 49\n",
      "best makespan: 3758 \n",
      "\n",
      "interation: 50\n",
      "best makespan: 3758 \n",
      "\n",
      "interation: 51\n",
      "best makespan: 3758 \n",
      "\n",
      "interation: 52\n",
      "best makespan: 3758 \n",
      "\n",
      "interation: 53\n",
      "best makespan: 3758 \n",
      "\n",
      "interation: 54\n",
      "best makespan: 3758 \n",
      "\n",
      "interation: 55\n",
      "best makespan: 3758 \n",
      "\n",
      "interation: 56\n",
      "best makespan: 3758 \n",
      "\n",
      "interation: 57\n",
      "best makespan: 3758 \n",
      "\n",
      "interation: 58\n",
      "best makespan: 3758 \n",
      "\n",
      "interation: 59\n",
      "best makespan: 3758 \n",
      "\n",
      "interation: 60\n",
      "best makespan: 3758 \n",
      "\n",
      "interation: 61\n",
      "best makespan: 3758 \n",
      "\n",
      "interation: 62\n",
      "best makespan: 3758 \n",
      "\n",
      "interation: 63\n",
      "best makespan: 3758 \n",
      "\n",
      "interation: 64\n",
      "best makespan: 3758 \n",
      "\n",
      "interation: 65\n",
      "best makespan: 3758 \n",
      "\n",
      "interation: 66\n",
      "best makespan: 3758 \n",
      "\n",
      "interation: 67\n",
      "best makespan: 3758 \n",
      "\n",
      "interation: 68\n",
      "best makespan: 3758 \n",
      "\n",
      "interation: 69\n",
      "best makespan: 3758 \n",
      "\n",
      "interation: 70\n",
      "best makespan: 3758 \n",
      "\n",
      "interation: 71\n",
      "best makespan: 3758 \n",
      "\n",
      "interation: 72\n",
      "best makespan: 3758 \n",
      "\n",
      "interation: 73\n",
      "best makespan: 3758 \n",
      "\n",
      "interation: 74\n",
      "best makespan: 3758 \n",
      "\n",
      "interation: 75\n",
      "best makespan: 3758 \n",
      "\n",
      "interation: 76\n",
      "best makespan: 3758 \n",
      "\n",
      "interation: 77\n",
      "best makespan: 3758 \n",
      "\n",
      "interation: 78\n",
      "best makespan: 3758 \n",
      "\n",
      "interation: 79\n",
      "best makespan: 3758 \n",
      "\n",
      "interation: 80\n",
      "best makespan: 3758 \n",
      "\n",
      "interation: 81\n",
      "best makespan: 3758 \n",
      "\n",
      "interation: 82\n",
      "best makespan: 3758 \n",
      "\n",
      "interation: 83\n",
      "best makespan: 3758 \n",
      "\n",
      "interation: 84\n",
      "best makespan: 3758 \n",
      "\n",
      "interation: 85\n",
      "best makespan: 3758 \n",
      "\n",
      "interation: 86\n",
      "best makespan: 3758 \n",
      "\n",
      "interation: 87\n",
      "best makespan: 3758 \n",
      "\n",
      "interation: 88\n",
      "best makespan: 3758 \n",
      "\n",
      "interation: 89\n",
      "best makespan: 3758 \n",
      "\n",
      "interation: 90\n",
      "best makespan: 3758 \n",
      "\n",
      "interation: 91\n",
      "best makespan: 3758 \n",
      "\n",
      "interation: 92\n",
      "best makespan: 3758 \n",
      "\n",
      "interation: 93\n",
      "best makespan: 3701 \n",
      "\n",
      "interation: 94\n",
      "best makespan: 3604 \n",
      "\n",
      "interation: 95\n",
      "best makespan: 3604 \n",
      "\n",
      "interation: 96\n",
      "best makespan: 3604 \n",
      "\n",
      "interation: 97\n",
      "best makespan: 3604 \n",
      "\n",
      "interation: 98\n",
      "best makespan: 3604 \n",
      "\n",
      "interation: 99\n",
      "best makespan: 3604 \n",
      "\n",
      "interation: 100\n",
      "best makespan: 3604 \n",
      "\n",
      "interation: 101\n",
      "best makespan: 3604 \n",
      "\n",
      "interation: 102\n",
      "best makespan: 3604 \n",
      "\n",
      "interation: 103\n",
      "best makespan: 3604 \n",
      "\n",
      "interation: 104\n",
      "best makespan: 3604 \n",
      "\n",
      "interation: 105\n",
      "best makespan: 3604 \n",
      "\n",
      "interation: 106\n",
      "best makespan: 3604 \n",
      "\n",
      "interation: 107\n",
      "best makespan: 3604 \n",
      "\n",
      "interation: 108\n",
      "best makespan: 3604 \n",
      "\n",
      "interation: 109\n",
      "best makespan: 3604 \n",
      "\n",
      "interation: 110\n",
      "best makespan: 3604 \n",
      "\n",
      "interation: 111\n",
      "best makespan: 3604 \n",
      "\n",
      "interation: 112\n",
      "best makespan: 3604 \n",
      "\n",
      "interation: 113\n",
      "best makespan: 3604 \n",
      "\n",
      "interation: 114\n",
      "best makespan: 3604 \n",
      "\n",
      "interation: 115\n",
      "best makespan: 3604 \n",
      "\n",
      "interation: 116\n",
      "best makespan: 3604 \n",
      "\n",
      "interation: 117\n",
      "best makespan: 3604 \n",
      "\n",
      "interation: 118\n",
      "best makespan: 3604 \n",
      "\n",
      "interation: 119\n",
      "best makespan: 3604 \n",
      "\n",
      "interation: 120\n",
      "best makespan: 3604 \n",
      "\n",
      "interation: 121\n",
      "best makespan: 3604 \n",
      "\n",
      "interation: 122\n",
      "best makespan: 3604 \n",
      "\n",
      "interation: 123\n",
      "best makespan: 3604 \n",
      "\n",
      "interation: 124\n",
      "best makespan: 3604 \n",
      "\n",
      "interation: 125\n",
      "best makespan: 3604 \n",
      "\n",
      "interation: 126\n",
      "best makespan: 3604 \n",
      "\n",
      "interation: 127\n",
      "best makespan: 3604 \n",
      "\n",
      "interation: 128\n",
      "best makespan: 3604 \n",
      "\n",
      "interation: 129\n",
      "best makespan: 3604 \n",
      "\n",
      "interation: 130\n",
      "best makespan: 3604 \n",
      "\n",
      "interation: 131\n",
      "best makespan: 3604 \n",
      "\n",
      "interation: 132\n",
      "best makespan: 3604 \n",
      "\n",
      "interation: 133\n",
      "best makespan: 3604 \n",
      "\n",
      "interation: 134\n",
      "best makespan: 3604 \n",
      "\n",
      "interation: 135\n",
      "best makespan: 3604 \n",
      "\n",
      "interation: 136\n",
      "best makespan: 3604 \n",
      "\n",
      "interation: 137\n",
      "best makespan: 3604 \n",
      "\n",
      "interation: 138\n",
      "best makespan: 3604 \n",
      "\n",
      "interation: 139\n",
      "best makespan: 3604 \n",
      "\n",
      "interation: 140\n",
      "best makespan: 3604 \n",
      "\n",
      "interation: 141\n",
      "best makespan: 3604 \n",
      "\n",
      "interation: 142\n",
      "best makespan: 3604 \n",
      "\n",
      "interation: 143\n",
      "best makespan: 3604 \n",
      "\n",
      "interation: 144\n",
      "best makespan: 3604 \n",
      "\n",
      "interation: 145\n",
      "best makespan: 3604 \n",
      "\n",
      "interation: 146\n",
      "best makespan: 3604 \n",
      "\n",
      "interation: 147\n",
      "best makespan: 3604 \n",
      "\n",
      "interation: 148\n",
      "best makespan: 3604 \n",
      "\n",
      "interation: 149\n",
      "best makespan: 3604 \n",
      "\n",
      "interation: 150\n",
      "best makespan: 3604 \n",
      "\n",
      "interation: 151\n",
      "best makespan: 3604 \n",
      "\n",
      "interation: 152\n",
      "best makespan: 3604 \n",
      "\n",
      "interation: 153\n",
      "best makespan: 3604 \n",
      "\n",
      "interation: 154\n",
      "best makespan: 3604 \n",
      "\n",
      "interation: 155\n",
      "best makespan: 3604 \n",
      "\n",
      "interation: 156\n",
      "best makespan: 3604 \n",
      "\n",
      "interation: 157\n",
      "best makespan: 3604 \n",
      "\n",
      "interation: 158\n",
      "best makespan: 3604 \n",
      "\n",
      "interation: 159\n",
      "best makespan: 3604 \n",
      "\n",
      "interation: 160\n",
      "best makespan: 3604 \n",
      "\n",
      "interation: 161\n",
      "best makespan: 3604 \n",
      "\n",
      "interation: 162\n",
      "best makespan: 3604 \n",
      "\n",
      "interation: 163\n",
      "best makespan: 3604 \n",
      "\n",
      "interation: 164\n",
      "best makespan: 3604 \n",
      "\n",
      "interation: 165\n",
      "best makespan: 3604 \n",
      "\n",
      "interation: 166\n",
      "best makespan: 3604 \n",
      "\n",
      "interation: 167\n",
      "best makespan: 3604 \n",
      "\n",
      "interation: 168\n",
      "best makespan: 3604 \n",
      "\n",
      "interation: 169\n",
      "best makespan: 3604 \n",
      "\n",
      "interation: 170\n",
      "best makespan: 3604 \n",
      "\n",
      "interation: 171\n",
      "best makespan: 3604 \n",
      "\n",
      "interation: 172\n",
      "best makespan: 3604 \n",
      "\n",
      "interation: 173\n",
      "best makespan: 3604 \n",
      "\n",
      "interation: 174\n",
      "best makespan: 3604 \n",
      "\n",
      "interation: 175\n",
      "best makespan: 3604 \n",
      "\n",
      "interation: 176\n",
      "best makespan: 3604 \n",
      "\n",
      "interation: 177\n",
      "best makespan: 3604 \n",
      "\n",
      "interation: 178\n",
      "best makespan: 3604 \n",
      "\n",
      "interation: 179\n",
      "best makespan: 3604 \n",
      "\n",
      "interation: 180\n",
      "best makespan: 3604 \n",
      "\n",
      "interation: 181\n",
      "best makespan: 3604 \n",
      "\n",
      "interation: 182\n",
      "best makespan: 3604 \n",
      "\n",
      "interation: 183\n",
      "best makespan: 3604 \n",
      "\n",
      "interation: 184\n",
      "best makespan: 3604 \n",
      "\n",
      "interation: 185\n",
      "best makespan: 3604 \n",
      "\n",
      "interation: 186\n",
      "best makespan: 3604 \n",
      "\n",
      "interation: 187\n",
      "best makespan: 3604 \n",
      "\n",
      "interation: 188\n",
      "best makespan: 3604 \n",
      "\n",
      "interation: 189\n",
      "best makespan: 3604 \n",
      "\n",
      "interation: 190\n",
      "best makespan: 3604 \n",
      "\n",
      "interation: 191\n",
      "best makespan: 3604 \n",
      "\n",
      "interation: 192\n",
      "best makespan: 3604 \n",
      "\n",
      "interation: 193\n",
      "best makespan: 3604 \n",
      "\n",
      "interation: 194\n",
      "best makespan: 3604 \n",
      "\n",
      "interation: 195\n",
      "best makespan: 3604 \n",
      "\n",
      "interation: 196\n",
      "best makespan: 3604 \n",
      "\n",
      "interation: 197\n",
      "best makespan: 3604 \n",
      "\n",
      "interation: 198\n",
      "best makespan: 3604 \n",
      "\n",
      "interation: 199\n",
      "best makespan: 3604 \n",
      "\n",
      "interation: 200\n",
      "best makespan: 3604 \n",
      "\n",
      "interation: 201\n",
      "best makespan: 3604 \n",
      "\n",
      "interation: 202\n",
      "best makespan: 3604 \n",
      "\n",
      "interation: 203\n",
      "best makespan: 3604 \n",
      "\n",
      "interation: 204\n",
      "best makespan: 3604 \n",
      "\n",
      "interation: 205\n",
      "best makespan: 3604 \n",
      "\n",
      "interation: 206\n",
      "best makespan: 3604 \n",
      "\n",
      "interation: 207\n",
      "best makespan: 3604 \n",
      "\n",
      "interation: 208\n",
      "best makespan: 3604 \n",
      "\n",
      "interation: 209\n",
      "best makespan: 3604 \n",
      "\n",
      "interation: 210\n",
      "best makespan: 3604 \n",
      "\n",
      "interation: 211\n",
      "best makespan: 3604 \n",
      "\n",
      "interation: 212\n",
      "best makespan: 3604 \n",
      "\n",
      "interation: 213\n",
      "best makespan: 3604 \n",
      "\n",
      "interation: 214\n",
      "best makespan: 3604 \n",
      "\n",
      "interation: 215\n",
      "best makespan: 3604 \n",
      "\n",
      "interation: 216\n",
      "best makespan: 3604 \n",
      "\n",
      "interation: 217\n",
      "best makespan: 3604 \n",
      "\n",
      "interation: 218\n",
      "best makespan: 3604 \n",
      "\n",
      "interation: 219\n",
      "best makespan: 3604 \n",
      "\n",
      "interation: 220\n",
      "best makespan: 3604 \n",
      "\n",
      "interation: 221\n",
      "best makespan: 3604 \n",
      "\n",
      "interation: 222\n",
      "best makespan: 3604 \n",
      "\n",
      "interation: 223\n",
      "best makespan: 3604 \n",
      "\n",
      "interation: 224\n",
      "best makespan: 3604 \n",
      "\n",
      "interation: 225\n",
      "best makespan: 3604 \n",
      "\n",
      "interation: 226\n",
      "best makespan: 3604 \n",
      "\n",
      "interation: 227\n",
      "best makespan: 3604 \n",
      "\n",
      "interation: 228\n",
      "best makespan: 3604 \n",
      "\n",
      "interation: 229\n",
      "best makespan: 3604 \n",
      "\n",
      "interation: 230\n",
      "best makespan: 3604 \n",
      "\n",
      "interation: 231\n",
      "best makespan: 3604 \n",
      "\n",
      "interation: 232\n",
      "best makespan: 3604 \n",
      "\n",
      "interation: 233\n",
      "best makespan: 3604 \n",
      "\n",
      "interation: 234\n",
      "best makespan: 3604 \n",
      "\n",
      "interation: 235\n",
      "best makespan: 3604 \n",
      "\n",
      "interation: 236\n",
      "best makespan: 3604 \n",
      "\n",
      "interation: 237\n",
      "best makespan: 3604 \n",
      "\n",
      "interation: 238\n",
      "best makespan: 3604 \n",
      "\n",
      "interation: 239\n",
      "best makespan: 3604 \n",
      "\n",
      "interation: 240\n",
      "best makespan: 3604 \n",
      "\n",
      "interation: 241\n",
      "best makespan: 3604 \n",
      "\n",
      "interation: 242\n",
      "best makespan: 3604 \n",
      "\n",
      "interation: 243\n",
      "best makespan: 3571 \n",
      "\n",
      "interation: 244\n",
      "best makespan: 3571 \n",
      "\n",
      "interation: 245\n",
      "best makespan: 3571 \n",
      "\n",
      "interation: 246\n",
      "best makespan: 3571 \n",
      "\n",
      "interation: 247\n",
      "best makespan: 3571 \n",
      "\n",
      "interation: 248\n",
      "best makespan: 3571 \n",
      "\n",
      "interation: 249\n",
      "best makespan: 3571 \n",
      "\n",
      "interation: 250\n",
      "best makespan: 3571 \n",
      "\n",
      "interation: 251\n",
      "best makespan: 3571 \n",
      "\n",
      "interation: 252\n",
      "best makespan: 3571 \n",
      "\n",
      "interation: 253\n",
      "best makespan: 3571 \n",
      "\n",
      "interation: 254\n",
      "best makespan: 3571 \n",
      "\n",
      "interation: 255\n",
      "best makespan: 3571 \n",
      "\n",
      "interation: 256\n",
      "best makespan: 3571 \n",
      "\n",
      "interation: 257\n",
      "best makespan: 3571 \n",
      "\n",
      "interation: 258\n",
      "best makespan: 3571 \n",
      "\n",
      "interation: 259\n",
      "best makespan: 3571 \n",
      "\n",
      "interation: 260\n",
      "best makespan: 3571 \n",
      "\n",
      "interation: 261\n",
      "best makespan: 3571 \n",
      "\n",
      "interation: 262\n",
      "best makespan: 3571 \n",
      "\n",
      "interation: 263\n",
      "best makespan: 3571 \n",
      "\n",
      "interation: 264\n",
      "best makespan: 3571 \n",
      "\n",
      "interation: 265\n",
      "best makespan: 3571 \n",
      "\n",
      "interation: 266\n",
      "best makespan: 3571 \n",
      "\n",
      "interation: 267\n",
      "best makespan: 3571 \n",
      "\n",
      "interation: 268\n",
      "best makespan: 3571 \n",
      "\n",
      "interation: 269\n",
      "best makespan: 3571 \n",
      "\n",
      "interation: 270\n",
      "best makespan: 3571 \n",
      "\n",
      "interation: 271\n",
      "best makespan: 3571 \n",
      "\n",
      "interation: 272\n",
      "best makespan: 3571 \n",
      "\n",
      "interation: 273\n",
      "best makespan: 3571 \n",
      "\n",
      "interation: 274\n",
      "best makespan: 3571 \n",
      "\n",
      "interation: 275\n",
      "best makespan: 3571 \n",
      "\n",
      "interation: 276\n",
      "best makespan: 3571 \n",
      "\n",
      "interation: 277\n",
      "best makespan: 3571 \n",
      "\n",
      "interation: 278\n",
      "best makespan: 3571 \n",
      "\n",
      "interation: 279\n",
      "best makespan: 3571 \n",
      "\n",
      "interation: 280\n",
      "best makespan: 3571 \n",
      "\n",
      "interation: 281\n",
      "best makespan: 3571 \n",
      "\n",
      "interation: 282\n",
      "best makespan: 3571 \n",
      "\n",
      "interation: 283\n",
      "best makespan: 3571 \n",
      "\n",
      "interation: 284\n",
      "best makespan: 3571 \n",
      "\n",
      "interation: 285\n",
      "best makespan: 3571 \n",
      "\n",
      "interation: 286\n",
      "best makespan: 3571 \n",
      "\n",
      "interation: 287\n",
      "best makespan: 3571 \n",
      "\n",
      "interation: 288\n",
      "best makespan: 3571 \n",
      "\n",
      "interation: 289\n",
      "best makespan: 3571 \n",
      "\n",
      "interation: 290\n",
      "best makespan: 3571 \n",
      "\n",
      "interation: 291\n",
      "best makespan: 3571 \n",
      "\n",
      "interation: 292\n",
      "best makespan: 3571 \n",
      "\n",
      "interation: 293\n",
      "best makespan: 3571 \n",
      "\n",
      "interation: 294\n",
      "best makespan: 3571 \n",
      "\n",
      "interation: 295\n",
      "best makespan: 3571 \n",
      "\n",
      "interation: 296\n",
      "best makespan: 3571 \n",
      "\n",
      "interation: 297\n",
      "best makespan: 3571 \n",
      "\n",
      "interation: 298\n",
      "best makespan: 3571 \n",
      "\n",
      "interation: 299\n",
      "best makespan: 3571 \n",
      "\n",
      "interation: 300\n",
      "best makespan: 3571 \n",
      "\n",
      "interation: 301\n",
      "best makespan: 3571 \n",
      "\n",
      "interation: 302\n",
      "best makespan: 3571 \n",
      "\n",
      "interation: 303\n",
      "best makespan: 3571 \n",
      "\n",
      "interation: 304\n",
      "best makespan: 3571 \n",
      "\n",
      "interation: 305\n",
      "best makespan: 3571 \n",
      "\n",
      "interation: 306\n",
      "best makespan: 3571 \n",
      "\n",
      "interation: 307\n",
      "best makespan: 3571 \n",
      "\n",
      "interation: 308\n",
      "best makespan: 3571 \n",
      "\n",
      "interation: 309\n",
      "best makespan: 3571 \n",
      "\n",
      "interation: 310\n",
      "best makespan: 3571 \n",
      "\n",
      "interation: 311\n",
      "best makespan: 3571 \n",
      "\n",
      "interation: 312\n",
      "best makespan: 3571 \n",
      "\n",
      "interation: 313\n",
      "best makespan: 3571 \n",
      "\n",
      "interation: 314\n",
      "best makespan: 3571 \n",
      "\n",
      "interation: 315\n",
      "best makespan: 3571 \n",
      "\n",
      "interation: 316\n",
      "best makespan: 3571 \n",
      "\n",
      "interation: 317\n",
      "best makespan: 3571 \n",
      "\n",
      "interation: 318\n",
      "best makespan: 3571 \n",
      "\n",
      "interation: 319\n",
      "best makespan: 3571 \n",
      "\n",
      "interation: 320\n",
      "best makespan: 3571 \n",
      "\n",
      "interation: 321\n",
      "best makespan: 3571 \n",
      "\n",
      "interation: 322\n",
      "best makespan: 3571 \n",
      "\n",
      "interation: 323\n",
      "best makespan: 3571 \n",
      "\n",
      "interation: 324\n",
      "best makespan: 3571 \n",
      "\n",
      "interation: 325\n",
      "best makespan: 3571 \n",
      "\n",
      "interation: 326\n",
      "best makespan: 3571 \n",
      "\n",
      "interation: 327\n",
      "best makespan: 3571 \n",
      "\n",
      "interation: 328\n",
      "best makespan: 3571 \n",
      "\n",
      "interation: 329\n",
      "best makespan: 3571 \n",
      "\n",
      "interation: 330\n",
      "best makespan: 3571 \n",
      "\n",
      "interation: 331\n",
      "best makespan: 3571 \n",
      "\n",
      "interation: 332\n",
      "best makespan: 3571 \n",
      "\n",
      "interation: 333\n",
      "best makespan: 3571 \n",
      "\n",
      "interation: 334\n",
      "best makespan: 3571 \n",
      "\n",
      "interation: 335\n",
      "best makespan: 3571 \n",
      "\n",
      "interation: 336\n",
      "best makespan: 3571 \n",
      "\n",
      "interation: 337\n",
      "best makespan: 3571 \n",
      "\n",
      "interation: 338\n",
      "best makespan: 3571 \n",
      "\n",
      "interation: 339\n",
      "best makespan: 3571 \n",
      "\n",
      "interation: 340\n",
      "best makespan: 3571 \n",
      "\n",
      "interation: 341\n",
      "best makespan: 3571 \n",
      "\n",
      "interation: 342\n",
      "best makespan: 3571 \n",
      "\n",
      "interation: 343\n",
      "best makespan: 3571 \n",
      "\n",
      "interation: 344\n",
      "best makespan: 3571 \n",
      "\n",
      "interation: 345\n",
      "best makespan: 3571 \n",
      "\n",
      "interation: 346\n",
      "best makespan: 3571 \n",
      "\n",
      "interation: 347\n",
      "best makespan: 3571 \n",
      "\n",
      "interation: 348\n",
      "best makespan: 3571 \n",
      "\n",
      "interation: 349\n",
      "best makespan: 3571 \n",
      "\n",
      "interation: 350\n",
      "best makespan: 3571 \n",
      "\n",
      "interation: 351\n",
      "best makespan: 3571 \n",
      "\n",
      "interation: 352\n",
      "best makespan: 3571 \n",
      "\n",
      "interation: 353\n",
      "best makespan: 3571 \n",
      "\n",
      "interation: 354\n",
      "best makespan: 3571 \n",
      "\n",
      "interation: 355\n",
      "best makespan: 3571 \n",
      "\n",
      "interation: 356\n",
      "best makespan: 3571 \n",
      "\n",
      "interation: 357\n",
      "best makespan: 3571 \n",
      "\n",
      "interation: 358\n",
      "best makespan: 3571 \n",
      "\n",
      "interation: 359\n",
      "best makespan: 3571 \n",
      "\n",
      "interation: 360\n",
      "best makespan: 3571 \n",
      "\n",
      "interation: 361\n",
      "best makespan: 3571 \n",
      "\n",
      "interation: 362\n",
      "best makespan: 3571 \n",
      "\n",
      "interation: 363\n",
      "best makespan: 3571 \n",
      "\n",
      "interation: 364\n",
      "best makespan: 3571 \n",
      "\n",
      "interation: 365\n",
      "best makespan: 3571 \n",
      "\n",
      "interation: 366\n",
      "best makespan: 3529 \n",
      "\n",
      "interation: 367\n",
      "best makespan: 3529 \n",
      "\n",
      "interation: 368\n",
      "best makespan: 3529 \n",
      "\n",
      "interation: 369\n",
      "best makespan: 3529 \n",
      "\n",
      "interation: 370\n",
      "best makespan: 3529 \n",
      "\n",
      "interation: 371\n",
      "best makespan: 3529 \n",
      "\n",
      "interation: 372\n",
      "best makespan: 3529 \n",
      "\n",
      "interation: 373\n",
      "best makespan: 3529 \n",
      "\n",
      "interation: 374\n",
      "best makespan: 3529 \n",
      "\n",
      "interation: 375\n",
      "best makespan: 3529 \n",
      "\n",
      "interation: 376\n",
      "best makespan: 3529 \n",
      "\n",
      "interation: 377\n",
      "best makespan: 3529 \n",
      "\n",
      "interation: 378\n",
      "best makespan: 3529 \n",
      "\n",
      "interation: 379\n",
      "best makespan: 3529 \n",
      "\n",
      "interation: 380\n",
      "best makespan: 3529 \n",
      "\n",
      "interation: 381\n",
      "best makespan: 3529 \n",
      "\n",
      "interation: 382\n",
      "best makespan: 3529 \n",
      "\n",
      "interation: 383\n",
      "best makespan: 3529 \n",
      "\n",
      "interation: 384\n",
      "best makespan: 3529 \n",
      "\n",
      "interation: 385\n",
      "best makespan: 3529 \n",
      "\n",
      "interation: 386\n",
      "best makespan: 3529 \n",
      "\n",
      "interation: 387\n",
      "best makespan: 3529 \n",
      "\n",
      "interation: 388\n",
      "best makespan: 3529 \n",
      "\n",
      "interation: 389\n",
      "best makespan: 3529 \n",
      "\n",
      "interation: 390\n",
      "best makespan: 3529 \n",
      "\n",
      "interation: 391\n",
      "best makespan: 3529 \n",
      "\n",
      "interation: 392\n",
      "best makespan: 3529 \n",
      "\n",
      "interation: 393\n",
      "best makespan: 3529 \n",
      "\n",
      "interation: 394\n",
      "best makespan: 3529 \n",
      "\n",
      "interation: 395\n",
      "best makespan: 3529 \n",
      "\n",
      "interation: 396\n",
      "best makespan: 3529 \n",
      "\n",
      "interation: 397\n",
      "best makespan: 3529 \n",
      "\n",
      "interation: 398\n",
      "best makespan: 3529 \n",
      "\n",
      "interation: 399\n",
      "best makespan: 3529 \n",
      "\n",
      "interation: 400\n",
      "best makespan: 3529 \n",
      "\n",
      "interation: 401\n",
      "best makespan: 3529 \n",
      "\n"
     ]
    }
   ],
   "source": [
    "\n",
    "iteration = 0\n",
    "populationList = []\n",
    "lineGraphDataList = []\n",
    "elitismIndividualDF = pd.DataFrame()\n",
    "\n",
    "while(iteration <= MAX_ITERATION):\n",
    "    if len(populationList) == 0 :\n",
    "        populationList = generateInitailPopulation()\n",
    "        # print(f\"initial populaiton {len(populationList[0])}\")\n",
    "    else:\n",
    "        populationList = [i[0] for i in offspringList]\n",
    "        \n",
    "    # scored the population\n",
    "    scoredPopulationList = []\n",
    "    for chromosome in populationList:\n",
    "        makespan = evaluateFitnessScore(chromosome)\n",
    "        scoredPopulationList.append([chromosome, makespan])\n",
    "    \n",
    "    # select two individual from the population and crossover & mutation until meet the pop size\n",
    "    offspringList = []\n",
    "    scoredPopulationList.extend(elitismIndividualDF.values)\n",
    "    while len(offspringList) <= POP_SIZE:\n",
    "        selectedIndividual = selection(pd.DataFrame(scoredPopulationList,columns=[\"population\", \"makespan\"]))\n",
    "        if random.random() < CROSSOVER_RATE:\n",
    "            offsprings = crossover(selectedIndividual.iloc[0,0],selectedIndividual.iloc[1,0])\n",
    "            for offspring in offsprings:\n",
    "                makespan = evaluateFitnessScore(offspring)\n",
    "                offspringList.append([offspring, makespan])\n",
    "        else:\n",
    "            offspring = mutate(selectedIndividual.iloc[0,0])\n",
    "            makespan = evaluateFitnessScore(offspring)\n",
    "            offspringList.append([offspring, makespan])\n",
    "\n",
    "    \n",
    "    # sort by makespan (ascending)\n",
    "    offspringList.extend(elitismIndividualDF.values)\n",
    "    elitismIndividualDF = elitismStrategy(pd.DataFrame(offspringList, columns=[\"population\", \"makespan\"]))\n",
    "    \n",
    "    iteration+=1\n",
    "    lineGraphDataList.append(elitismIndividualDF.iloc[0,1])\n",
    "    print(f\"interation: {iteration}\")\n",
    "    print(f\"best makespan: {elitismIndividualDF.iloc[0,1]} \\n\")"
   ]
  },
  {
   "cell_type": "code",
   "execution_count": 25,
   "metadata": {},
   "outputs": [
    {
     "data": {
      "image/png": "[encoded data removed]",
      "text/plain": [
       "<Figure size 640x480 with 1 Axes>"
      ]
     },
     "metadata": {},
     "output_type": "display_data"
    }
   ],
   "source": [
    "import matplotlib.pyplot as plt\n",
    "\n",
    "plt.plot(range(len(lineGraphDataList)), lineGraphDataList, label='makespan')\n",
    "plt.xlabel('Period')\n",
    "plt.ylabel('Value')\n",
    "plt.title('Trend of Makespan')\n",
    "plt.legend()\n",
    "plt.grid(True)\n",
    "plt.show()"
   ]
  },
  {
   "cell_type": "markdown",
   "metadata": {},
   "source": [
    "## Draw Gantt Chart"
   ]
  },
  {
   "cell_type": "code",
   "execution_count": 26,
   "metadata": {},
   "outputs": [
    {
     "data": {
      "application/vnd.plotly.v1+json": {
       "config": {
        "plotlyServerURL": "https://plot.ly"
       },
       "data": [
        {
         "alignmentgroup": "True",
         "base": [
          "2024-09-04T13:50:33.946409",
          "2024-09-04T16:27:33.946409",
          "2024-09-05T09:42:33.946409",
          "2024-09-05T18:16:33.946409",
          "2024-09-05T19:41:33.946409",
          "2024-09-05T20:47:33.946409",
          "2024-09-06T00:20:33.946409",
          "2024-09-06T01:36:33.946409",
          "2024-09-06T05:47:33.946409",
          "2024-09-06T07:20:33.946409"
         ],
         "hovertemplate": "Color=black<br>Start=%{base}<br>Finish=%{x}<br>Machine=%{y}<br>Job=%{text}<extra></extra>",
         "legendgroup": "black",
         "marker": {
          "color": "#636efa",
          "pattern": {
           "shape": ""
          }
         },
         "name": "black",
         "offsetgroup": "black",
         "orientation": "h",
         "showlegend": true,
         "text": [
          "8",
          "8",
          "8",
          "8",
          "8",
          "8",
          "8",
          "8",
          "8",
          "8"
         ],
         "textposition": "inside",
         "type": "bar",
         "x": [
          5640000,
          4260000,
          4860000,
          5100000,
          3960000,
          5400000,
          4560000,
          3480000,
          5580000,
          5820000
         ],
         "xaxis": "x",
         "y": [
          "Machine6",
          "Machine4",
          "Machine8",
          "Machine8",
          "Machine7",
          "Machine5",
          "Machine7",
          "Machine8",
          "Machine9",
          "Machine7"
         ],
         "yaxis": "y"
        },
        {
         "alignmentgroup": "True",
         "base": [
          "2024-09-04T13:50:33.946409",
          "2024-09-04T15:24:33.946409",
          "2024-09-04T16:50:33.946409",
          "2024-09-05T00:26:33.946409",
          "2024-09-05T02:02:33.946409",
          "2024-09-05T03:37:33.946409",
          "2024-09-05T21:15:33.946409",
          "2024-09-06T03:09:33.946409",
          "2024-09-06T10:09:33.946409",
          "2024-09-06T15:39:33.946409"
         ],
         "hovertemplate": "Color=brown<br>Start=%{base}<br>Finish=%{x}<br>Machine=%{y}<br>Job=%{text}<extra></extra>",
         "legendgroup": "brown",
         "marker": {
          "color": "#EF553B",
          "pattern": {
           "shape": ""
          }
         },
         "name": "brown",
         "offsetgroup": "brown",
         "orientation": "h",
         "showlegend": true,
         "text": [
          "6",
          "6",
          "6",
          "6",
          "6",
          "6",
          "6",
          "6",
          "6",
          "6"
         ],
         "textposition": "inside",
         "type": "bar",
         "x": [
          3000000,
          5160000,
          5820000,
          5760000,
          5700000,
          5820000,
          3960000,
          5940000,
          3120000,
          4260000
         ],
         "xaxis": "x",
         "y": [
          "Machine10",
          "Machine6",
          "Machine8",
          "Machine4",
          "Machine4",
          "Machine3",
          "Machine2",
          "Machine3",
          "Machine8",
          "Machine6"
         ],
         "yaxis": "y"
        },
        {
         "alignmentgroup": "True",
         "base": [
          "2024-09-04T13:50:33.946409",
          "2024-09-04T16:37:33.946409",
          "2024-09-04T21:22:33.946409",
          "2024-09-04T23:56:33.946409",
          "2024-09-05T01:02:33.946409",
          "2024-09-05T02:22:33.946409",
          "2024-09-05T03:42:33.946409",
          "2024-09-05T04:51:33.946409",
          "2024-09-05T05:53:33.946409",
          "2024-09-05T07:12:33.946409",
          "2024-09-05T14:12:33.946409",
          "2024-09-05T15:51:33.946409",
          "2024-09-05T17:12:33.946409",
          "2024-09-05T18:16:33.946409",
          "2024-09-05T19:22:33.946409",
          "2024-09-05T20:42:33.946409",
          "2024-09-05T22:02:33.946409",
          "2024-09-05T23:24:33.946409",
          "2024-09-06T01:36:33.946409",
          "2024-09-06T02:55:33.946409",
          "2024-09-06T04:23:33.946409",
          "2024-09-06T06:02:33.946409",
          "2024-09-06T09:46:33.946409",
          "2024-09-06T10:50:33.946409",
          "2024-09-06T11:56:33.946409",
          "2024-09-06T13:16:33.946409",
          "2024-09-06T15:12:33.946409",
          "2024-09-06T18:58:33.946409",
          "2024-09-06T20:00:33.946409",
          "2024-09-06T23:11:33.946409"
         ],
         "hovertemplate": "Color=yellow<br>Start=%{base}<br>Finish=%{x}<br>Machine=%{y}<br>Job=%{text}<extra></extra>",
         "legendgroup": "yellow",
         "marker": {
          "color": "#00cc96",
          "pattern": {
           "shape": ""
          }
         },
         "name": "yellow",
         "offsetgroup": "yellow",
         "orientation": "h",
         "showlegend": true,
         "text": [
          "5",
          "5",
          "5",
          "5",
          "5",
          "5",
          "5",
          "5",
          "5",
          "5",
          "5",
          "5",
          "5",
          "5",
          "5",
          "5",
          "5",
          "5",
          "5",
          "5",
          "5",
          "5",
          "5",
          "5",
          "5",
          "5",
          "5",
          "5",
          "5",
          "5"
         ],
         "textposition": "inside",
         "type": "bar",
         "x": [
          5940000,
          4860000,
          3840000,
          3960000,
          4800000,
          4800000,
          4140000,
          3720000,
          4740000,
          5280000,
          5940000,
          4860000,
          3840000,
          3960000,
          4800000,
          4800000,
          4140000,
          3720000,
          4740000,
          5280000,
          5940000,
          4860000,
          3840000,
          3960000,
          4800000,
          4800000,
          4140000,
          3720000,
          4740000,
          5280000
         ],
         "xaxis": "x",
         "y": [
          "Machine2",
          "Machine1",
          "Machine7",
          "Machine6",
          "Machine7",
          "Machine6",
          "Machine8",
          "Machine7",
          "Machine7",
          "Machine7",
          "Machine2",
          "Machine1",
          "Machine8",
          "Machine6",
          "Machine6",
          "Machine6",
          "Machine7",
          "Machine1",
          "Machine7",
          "Machine7",
          "Machine1",
          "Machine1",
          "Machine4",
          "Machine4",
          "Machine1",
          "Machine2",
          "Machine10",
          "Machine7",
          "Machine7",
          "Machine4"
         ],
         "yaxis": "y"
        },
        {
         "alignmentgroup": "True",
         "base": [
          "2024-09-04T13:50:33.946409",
          "2024-09-04T17:50:33.946409",
          "2024-09-04T18:51:33.946409",
          "2024-09-04T20:14:33.946409",
          "2024-09-04T21:19:33.946409",
          "2024-09-04T22:23:33.946409",
          "2024-09-04T23:48:33.946409",
          "2024-09-05T01:06:33.946409",
          "2024-09-05T02:31:33.946409",
          "2024-09-05T03:26:33.946409",
          "2024-09-05T08:08:33.946409",
          "2024-09-05T09:31:33.946409",
          "2024-09-05T10:32:33.946409",
          "2024-09-05T11:55:33.946409",
          "2024-09-05T17:17:33.946409",
          "2024-09-05T18:21:33.946409",
          "2024-09-05T19:46:33.946409",
          "2024-09-05T21:04:33.946409",
          "2024-09-05T22:29:33.946409",
          "2024-09-05T23:24:33.946409",
          "2024-09-06T02:23:33.946409",
          "2024-09-06T03:46:33.946409",
          "2024-09-06T04:47:33.946409",
          "2024-09-06T14:07:33.946409",
          "2024-09-06T15:12:33.946409",
          "2024-09-06T16:16:33.946409",
          "2024-09-06T17:41:33.946409",
          "2024-09-06T18:59:33.946409",
          "2024-09-06T20:24:33.946409",
          "2024-09-06T21:54:33.946409"
         ],
         "hovertemplate": "Color=blue<br>Start=%{base}<br>Finish=%{x}<br>Machine=%{y}<br>Job=%{text}<extra></extra>",
         "legendgroup": "blue",
         "marker": {
          "color": "#ab63fa",
          "pattern": {
           "shape": ""
          }
         },
         "name": "blue",
         "offsetgroup": "blue",
         "orientation": "h",
         "showlegend": true,
         "text": [
          "2",
          "2",
          "2",
          "2",
          "2",
          "2",
          "2",
          "2",
          "2",
          "2",
          "2",
          "2",
          "2",
          "2",
          "2",
          "2",
          "2",
          "2",
          "2",
          "2",
          "2",
          "2",
          "2",
          "2",
          "2",
          "2",
          "2",
          "2",
          "2",
          "2"
         ],
         "textposition": "inside",
         "type": "bar",
         "x": [
          4980000,
          3660000,
          4980000,
          3900000,
          3840000,
          5100000,
          4680000,
          5100000,
          3300000,
          4620000,
          4980000,
          3660000,
          4980000,
          3900000,
          3840000,
          5100000,
          4680000,
          5100000,
          3300000,
          4620000,
          4980000,
          3660000,
          4980000,
          3900000,
          3840000,
          5100000,
          4680000,
          5100000,
          3300000,
          4620000
         ],
         "xaxis": "x",
         "y": [
          "Machine9",
          "Machine7",
          "Machine7",
          "Machine2",
          "Machine2",
          "Machine5",
          "Machine9",
          "Machine1",
          "Machine7",
          "Machine2",
          "Machine10",
          "Machine4",
          "Machine3",
          "Machine2",
          "Machine5",
          "Machine5",
          "Machine8",
          "Machine1",
          "Machine1",
          "Machine4",
          "Machine5",
          "Machine5",
          "Machine5",
          "Machine10",
          "Machine5",
          "Machine5",
          "Machine9",
          "Machine1",
          "Machine9",
          "Machine4"
         ],
         "yaxis": "y"
        },
        {
         "alignmentgroup": "True",
         "base": [
          "2024-09-04T13:50:33.946409",
          "2024-09-04T14:59:33.946409",
          "2024-09-04T16:27:33.946409",
          "2024-09-04T19:12:33.946409",
          "2024-09-05T00:39:33.946409",
          "2024-09-05T17:12:33.946409",
          "2024-09-05T18:19:33.946409",
          "2024-09-06T04:15:33.946409",
          "2024-09-06T05:23:33.946409",
          "2024-09-06T08:43:33.946409"
         ],
         "hovertemplate": "Color=purple<br>Start=%{base}<br>Finish=%{x}<br>Machine=%{y}<br>Job=%{text}<extra></extra>",
         "legendgroup": "purple",
         "marker": {
          "color": "#FFA15A",
          "pattern": {
           "shape": ""
          }
         },
         "name": "purple",
         "offsetgroup": "purple",
         "orientation": "h",
         "showlegend": true,
         "text": [
          "4",
          "4",
          "4",
          "4",
          "4",
          "4",
          "4",
          "4",
          "4",
          "4"
         ],
         "textposition": "inside",
         "type": "bar",
         "x": [
          4140000,
          5280000,
          4920000,
          5700000,
          5940000,
          4020000,
          5700000,
          4080000,
          4020000,
          5160000
         ],
         "xaxis": "x",
         "y": [
          "Machine1",
          "Machine4",
          "Machine2",
          "Machine9",
          "Machine5",
          "Machine1",
          "Machine3",
          "Machine2",
          "Machine8",
          "Machine8"
         ],
         "yaxis": "y"
        },
        {
         "alignmentgroup": "True",
         "base": [
          "2024-09-04T14:59:33.946409",
          "2024-09-04T16:37:33.946409",
          "2024-09-04T17:50:33.946409",
          "2024-09-04T23:48:33.946409",
          "2024-09-05T03:37:33.946409",
          "2024-09-05T04:48:33.946409",
          "2024-09-06T04:23:33.946409",
          "2024-09-06T09:45:33.946409",
          "2024-09-06T10:47:33.946409",
          "2024-09-06T14:46:33.946409"
         ],
         "hovertemplate": "Color=pink<br>Start=%{base}<br>Finish=%{x}<br>Machine=%{y}<br>Job=%{text}<extra></extra>",
         "legendgroup": "pink",
         "marker": {
          "color": "#19d3f3",
          "pattern": {
           "shape": ""
          }
         },
         "name": "pink",
         "offsetgroup": "pink",
         "orientation": "h",
         "showlegend": true,
         "text": [
          "7",
          "7",
          "7",
          "7",
          "7",
          "7",
          "7",
          "7",
          "7",
          "7"
         ],
         "textposition": "inside",
         "type": "bar",
         "x": [
          5880000,
          4380000,
          4920000,
          3060000,
          4260000,
          5640000,
          5100000,
          3720000,
          5700000,
          4740000
         ],
         "xaxis": "x",
         "y": [
          "Machine1",
          "Machine7",
          "Machine9",
          "Machine5",
          "Machine4",
          "Machine1",
          "Machine7",
          "Machine2",
          "Machine7",
          "Machine8"
         ],
         "yaxis": "y"
        },
        {
         "alignmentgroup": "True",
         "base": [
          "2024-09-04T13:50:33.946409",
          "2024-09-04T15:18:33.946409",
          "2024-09-04T16:50:33.946409",
          "2024-09-04T18:24:33.946409",
          "2024-09-04T20:03:33.946409",
          "2024-09-04T21:10:33.946409",
          "2024-09-04T22:39:33.946409",
          "2024-09-04T23:56:33.946409",
          "2024-09-05T01:35:33.946409",
          "2024-09-05T06:46:33.946409",
          "2024-09-05T08:18:33.946409",
          "2024-09-05T09:46:33.946409",
          "2024-09-05T10:54:33.946409",
          "2024-09-05T12:28:33.946409",
          "2024-09-05T14:07:33.946409",
          "2024-09-05T15:14:33.946409",
          "2024-09-05T16:43:33.946409",
          "2024-09-05T18:00:33.946409",
          "2024-09-05T19:42:33.946409",
          "2024-09-05T23:23:33.946409",
          "2024-09-06T00:55:33.946409",
          "2024-09-06T02:23:33.946409",
          "2024-09-06T03:31:33.946409",
          "2024-09-06T05:05:33.946409",
          "2024-09-06T07:09:33.946409",
          "2024-09-06T08:16:33.946409",
          "2024-09-06T09:45:33.946409",
          "2024-09-06T11:02:33.946409",
          "2024-09-06T12:41:33.946409",
          "2024-09-06T14:07:33.946409"
         ],
         "hovertemplate": "Color=red<br>Start=%{base}<br>Finish=%{x}<br>Machine=%{y}<br>Job=%{text}<extra></extra>",
         "legendgroup": "red",
         "marker": {
          "color": "#FF6692",
          "pattern": {
           "shape": ""
          }
         },
         "name": "red",
         "offsetgroup": "red",
         "orientation": "h",
         "showlegend": true,
         "text": [
          "0",
          "0",
          "0",
          "0",
          "0",
          "0",
          "0",
          "0",
          "0",
          "0",
          "0",
          "0",
          "0",
          "0",
          "0",
          "0",
          "0",
          "0",
          "0",
          "0",
          "0",
          "0",
          "0",
          "0",
          "0",
          "0",
          "0",
          "0",
          "0",
          "0"
         ],
         "textposition": "inside",
         "type": "bar",
         "x": [
          5280000,
          4080000,
          5640000,
          5940000,
          4020000,
          5340000,
          4620000,
          5940000,
          5160000,
          5520000,
          5280000,
          4080000,
          5640000,
          5940000,
          4020000,
          5340000,
          4620000,
          5940000,
          5160000,
          5520000,
          5280000,
          4080000,
          5640000,
          5940000,
          4020000,
          5340000,
          4620000,
          5940000,
          5160000,
          5520000
         ],
         "xaxis": "x",
         "y": [
          "Machine3",
          "Machine8",
          "Machine6",
          "Machine10",
          "Machine6",
          "Machine10",
          "Machine6",
          "Machine2",
          "Machine10",
          "Machine3",
          "Machine9",
          "Machine9",
          "Machine5",
          "Machine9",
          "Machine9",
          "Machine3",
          "Machine10",
          "Machine2",
          "Machine4",
          "Machine5",
          "Machine5",
          "Machine9",
          "Machine6",
          "Machine10",
          "Machine2",
          "Machine2",
          "Machine6",
          "Machine6",
          "Machine10",
          "Machine6"
         ],
         "yaxis": "y"
        },
        {
         "alignmentgroup": "True",
         "base": [
          "2024-09-04T15:13:33.946409",
          "2024-09-04T17:58:33.946409",
          "2024-09-04T18:48:33.946409",
          "2024-09-04T21:37:33.946409",
          "2024-09-04T22:52:33.946409",
          "2024-09-05T00:26:33.946409",
          "2024-09-05T05:14:33.946409",
          "2024-09-05T06:46:33.946409",
          "2024-09-05T08:08:33.946409",
          "2024-09-05T11:54:33.946409",
          "2024-09-05T13:00:33.946409",
          "2024-09-05T18:52:33.946409",
          "2024-09-05T23:11:33.946409",
          "2024-09-06T00:20:33.946409",
          "2024-09-06T01:35:33.946409",
          "2024-09-06T03:09:33.946409",
          "2024-09-06T04:15:33.946409",
          "2024-09-06T05:47:33.946409",
          "2024-09-06T07:09:33.946409",
          "2024-09-06T08:43:33.946409",
          "2024-09-06T09:46:33.946409",
          "2024-09-06T10:58:33.946409",
          "2024-09-06T12:22:33.946409",
          "2024-09-06T13:31:33.946409",
          "2024-09-06T14:46:33.946409",
          "2024-09-06T16:20:33.946409",
          "2024-09-06T17:26:33.946409",
          "2024-09-06T18:58:33.946409",
          "2024-09-06T20:20:33.946409",
          "2024-09-06T21:54:33.946409"
         ],
         "hovertemplate": "Color=green<br>Start=%{base}<br>Finish=%{x}<br>Machine=%{y}<br>Job=%{text}<extra></extra>",
         "legendgroup": "green",
         "marker": {
          "color": "#B6E880",
          "pattern": {
           "shape": ""
          }
         },
         "name": "green",
         "offsetgroup": "green",
         "orientation": "h",
         "showlegend": true,
         "text": [
          "1",
          "1",
          "1",
          "1",
          "1",
          "1",
          "1",
          "1",
          "1",
          "1",
          "1",
          "1",
          "1",
          "1",
          "1",
          "1",
          "1",
          "1",
          "1",
          "1",
          "1",
          "1",
          "1",
          "1",
          "1",
          "1",
          "1",
          "1",
          "1",
          "1"
         ],
         "textposition": "inside",
         "type": "bar",
         "x": [
          4320000,
          3000000,
          4140000,
          4500000,
          5640000,
          3960000,
          5520000,
          4920000,
          5640000,
          3780000,
          4320000,
          3000000,
          4140000,
          4500000,
          5640000,
          3960000,
          5520000,
          4920000,
          5640000,
          3780000,
          4320000,
          3000000,
          4140000,
          4500000,
          5640000,
          3960000,
          5520000,
          4920000,
          5640000,
          3780000
         ],
         "xaxis": "x",
         "y": [
          "Machine9",
          "Machine1",
          "Machine3",
          "Machine9",
          "Machine4",
          "Machine10",
          "Machine3",
          "Machine10",
          "Machine8",
          "Machine4",
          "Machine2",
          "Machine4",
          "Machine7",
          "Machine10",
          "Machine3",
          "Machine2",
          "Machine9",
          "Machine2",
          "Machine8",
          "Machine4",
          "Machine9",
          "Machine9",
          "Machine7",
          "Machine8",
          "Machine3",
          "Machine2",
          "Machine7",
          "Machine10",
          "Machine4",
          "Machine3"
         ],
         "yaxis": "y"
        },
        {
         "alignmentgroup": "True",
         "base": [
          "2024-09-04T15:18:33.946409",
          "2024-09-04T20:14:33.946409",
          "2024-09-05T01:35:33.946409",
          "2024-09-05T11:55:33.946409",
          "2024-09-05T16:43:33.946409",
          "2024-09-05T17:37:33.946409",
          "2024-09-05T22:17:33.946409",
          "2024-09-06T17:49:33.946409",
          "2024-09-06T19:05:33.946409",
          "2024-09-06T20:08:33.946409"
         ],
         "hovertemplate": "Color=orange<br>Start=%{base}<br>Finish=%{x}<br>Machine=%{y}<br>Job=%{text}<extra></extra>",
         "legendgroup": "orange",
         "marker": {
          "color": "#FF97FF",
          "pattern": {
           "shape": ""
          }
         },
         "name": "orange",
         "offsetgroup": "orange",
         "orientation": "h",
         "showlegend": true,
         "text": [
          "3",
          "3",
          "3",
          "3",
          "3",
          "3",
          "3",
          "3",
          "3",
          "3"
         ],
         "textposition": "inside",
         "type": "bar",
         "x": [
          5640000,
          4080000,
          3660000,
          5940000,
          3240000,
          4500000,
          3960000,
          4560000,
          3780000,
          4020000
         ],
         "xaxis": "x",
         "y": [
          "Machine3",
          "Machine7",
          "Machine2",
          "Machine3",
          "Machine3",
          "Machine4",
          "Machine5",
          "Machine6",
          "Machine2",
          "Machine2"
         ],
         "yaxis": "y"
        },
        {
         "alignmentgroup": "True",
         "base": [
          "2024-09-04T20:47:33.946409",
          "2024-09-05T04:51:33.946409",
          "2024-09-05T10:32:33.946409",
          "2024-09-05T15:14:33.946409",
          "2024-09-05T16:21:33.946409",
          "2024-09-05T19:39:33.946409",
          "2024-09-06T07:20:33.946409",
          "2024-09-06T08:57:33.946409",
          "2024-09-06T16:50:33.946409",
          "2024-09-06T22:57:33.946409"
         ],
         "hovertemplate": "Color=white<br>Start=%{base}<br>Finish=%{x}<br>Machine=%{y}<br>Job=%{text}<extra></extra>",
         "legendgroup": "white",
         "marker": {
          "color": "#FECB52",
          "pattern": {
           "shape": ""
          }
         },
         "name": "white",
         "offsetgroup": "white",
         "orientation": "h",
         "showlegend": true,
         "text": [
          "9",
          "9",
          "9",
          "9",
          "9",
          "9",
          "9",
          "9",
          "9",
          "9"
         ],
         "textposition": "inside",
         "type": "bar",
         "x": [
          3000000,
          3540000,
          4920000,
          4020000,
          3360000,
          5760000,
          3480000,
          4860000,
          3540000,
          5760000
         ],
         "xaxis": "x",
         "y": [
          "Machine9",
          "Machine8",
          "Machine4",
          "Machine9",
          "Machine5",
          "Machine2",
          "Machine9",
          "Machine7",
          "Machine6",
          "Machine3"
         ],
         "yaxis": "y"
        }
       ],
       "layout": {
        "barmode": "overlay",
        "legend": {
         "title": {
          "text": "Color"
         },
         "tracegroupgap": 0
        },
        "margin": {
         "t": 60
        },
        "template": {
         "data": {
          "bar": [
           {
            "error_x": {
             "color": "#2a3f5f"
            },
            "error_y": {
             "color": "#2a3f5f"
            },
            "marker": {
             "line": {
              "color": "#E5ECF6",
              "width": 0.5
             },
             "pattern": {
              "fillmode": "overlay",
              "size": 10,
              "solidity": 0.2
             }
            },
            "type": "bar"
           }
          ],
          "barpolar": [
           {
            "marker": {
             "line": {
              "color": "#E5ECF6",
              "width": 0.5
             },
             "pattern": {
              "fillmode": "overlay",
              "size": 10,
              "solidity": 0.2
             }
            },
            "type": "barpolar"
           }
          ],
          "carpet": [
           {
            "aaxis": {
             "endlinecolor": "#2a3f5f",
             "gridcolor": "white",
             "linecolor": "white",
             "minorgridcolor": "white",
             "startlinecolor": "#2a3f5f"
            },
            "baxis": {
             "endlinecolor": "#2a3f5f",
             "gridcolor": "white",
             "linecolor": "white",
             "minorgridcolor": "white",
             "startlinecolor": "#2a3f5f"
            },
            "type": "carpet"
           }
          ],
          "choropleth": [
           {
            "colorbar": {
             "outlinewidth": 0,
             "ticks": ""
            },
            "type": "choropleth"
           }
          ],
          "contour": [
           {
            "colorbar": {
             "outlinewidth": 0,
             "ticks": ""
            },
            "colorscale": [
             [
              0,
              "#0d0887"
             ],
             [
              0.1111111111111111,
              "#46039f"
             ],
             [
              0.2222222222222222,
              "#7201a8"
             ],
             [
              0.3333333333333333,
              "#9c179e"
             ],
             [
              0.4444444444444444,
              "#bd3786"
             ],
             [
              0.5555555555555556,
              "#d8576b"
             ],
             [
              0.6666666666666666,
              "#ed7953"
             ],
             [
              0.7777777777777778,
              "#fb9f3a"
             ],
             [
              0.8888888888888888,
              "#fdca26"
             ],
             [
              1,
              "#f0f921"
             ]
            ],
            "type": "contour"
           }
          ],
          "contourcarpet": [
           {
            "colorbar": {
             "outlinewidth": 0,
             "ticks": ""
            },
            "type": "contourcarpet"
           }
          ],
          "heatmap": [
           {
            "colorbar": {
             "outlinewidth": 0,
             "ticks": ""
            },
            "colorscale": [
             [
              0,
              "#0d0887"
             ],
             [
              0.1111111111111111,
              "#46039f"
             ],
             [
              0.2222222222222222,
              "#7201a8"
             ],
             [
              0.3333333333333333,
              "#9c179e"
             ],
             [
              0.4444444444444444,
              "#bd3786"
             ],
             [
              0.5555555555555556,
              "#d8576b"
             ],
             [
              0.6666666666666666,
              "#ed7953"
             ],
             [
              0.7777777777777778,
              "#fb9f3a"
             ],
             [
              0.8888888888888888,
              "#fdca26"
             ],
             [
              1,
              "#f0f921"
             ]
            ],
            "type": "heatmap"
           }
          ],
          "heatmapgl": [
           {
            "colorbar": {
             "outlinewidth": 0,
             "ticks": ""
            },
            "colorscale": [
             [
              0,
              "#0d0887"
             ],
             [
              0.1111111111111111,
              "#46039f"
             ],
             [
              0.2222222222222222,
              "#7201a8"
             ],
             [
              0.3333333333333333,
              "#9c179e"
             ],
             [
              0.4444444444444444,
              "#bd3786"
             ],
             [
              0.5555555555555556,
              "#d8576b"
             ],
             [
              0.6666666666666666,
              "#ed7953"
             ],
             [
              0.7777777777777778,
              "#fb9f3a"
             ],
             [
              0.8888888888888888,
              "#fdca26"
             ],
             [
              1,
              "#f0f921"
             ]
            ],
            "type": "heatmapgl"
           }
          ],
          "histogram": [
           {
            "marker": {
             "pattern": {
              "fillmode": "overlay",
              "size": 10,
              "solidity": 0.2
             }
            },
            "type": "histogram"
           }
          ],
          "histogram2d": [
           {
            "colorbar": {
             "outlinewidth": 0,
             "ticks": ""
            },
            "colorscale": [
             [
              0,
              "#0d0887"
             ],
             [
              0.1111111111111111,
              "#46039f"
             ],
             [
              0.2222222222222222,
              "#7201a8"
             ],
             [
              0.3333333333333333,
              "#9c179e"
             ],
             [
              0.4444444444444444,
              "#bd3786"
             ],
             [
              0.5555555555555556,
              "#d8576b"
             ],
             [
              0.6666666666666666,
              "#ed7953"
             ],
             [
              0.7777777777777778,
              "#fb9f3a"
             ],
             [
              0.8888888888888888,
              "#fdca26"
             ],
             [
              1,
              "#f0f921"
             ]
            ],
            "type": "histogram2d"
           }
          ],
          "histogram2dcontour": [
           {
            "colorbar": {
             "outlinewidth": 0,
             "ticks": ""
            },
            "colorscale": [
             [
              0,
              "#0d0887"
             ],
             [
              0.1111111111111111,
              "#46039f"
             ],
             [
              0.2222222222222222,
              "#7201a8"
             ],
             [
              0.3333333333333333,
              "#9c179e"
             ],
             [
              0.4444444444444444,
              "#bd3786"
             ],
             [
              0.5555555555555556,
              "#d8576b"
             ],
             [
              0.6666666666666666,
              "#ed7953"
             ],
             [
              0.7777777777777778,
              "#fb9f3a"
             ],
             [
              0.8888888888888888,
              "#fdca26"
             ],
             [
              1,
              "#f0f921"
             ]
            ],
            "type": "histogram2dcontour"
           }
          ],
          "mesh3d": [
           {
            "colorbar": {
             "outlinewidth": 0,
             "ticks": ""
            },
            "type": "mesh3d"
           }
          ],
          "parcoords": [
           {
            "line": {
             "colorbar": {
              "outlinewidth": 0,
              "ticks": ""
             }
            },
            "type": "parcoords"
           }
          ],
          "pie": [
           {
            "automargin": true,
            "type": "pie"
           }
          ],
          "scatter": [
           {
            "fillpattern": {
             "fillmode": "overlay",
             "size": 10,
             "solidity": 0.2
            },
            "type": "scatter"
           }
          ],
          "scatter3d": [
           {
            "line": {
             "colorbar": {
              "outlinewidth": 0,
              "ticks": ""
             }
            },
            "marker": {
             "colorbar": {
              "outlinewidth": 0,
              "ticks": ""
             }
            },
            "type": "scatter3d"
           }
          ],
          "scattercarpet": [
           {
            "marker": {
             "colorbar": {
              "outlinewidth": 0,
              "ticks": ""
             }
            },
            "type": "scattercarpet"
           }
          ],
          "scattergeo": [
           {
            "marker": {
             "colorbar": {
              "outlinewidth": 0,
              "ticks": ""
             }
            },
            "type": "scattergeo"
           }
          ],
          "scattergl": [
           {
            "marker": {
             "colorbar": {
              "outlinewidth": 0,
              "ticks": ""
             }
            },
            "type": "scattergl"
           }
          ],
          "scattermapbox": [
           {
            "marker": {
             "colorbar": {
              "outlinewidth": 0,
              "ticks": ""
             }
            },
            "type": "scattermapbox"
           }
          ],
          "scatterpolar": [
           {
            "marker": {
             "colorbar": {
              "outlinewidth": 0,
              "ticks": ""
             }
            },
            "type": "scatterpolar"
           }
          ],
          "scatterpolargl": [
           {
            "marker": {
             "colorbar": {
              "outlinewidth": 0,
              "ticks": ""
             }
            },
            "type": "scatterpolargl"
           }
          ],
          "scatterternary": [
           {
            "marker": {
             "colorbar": {
              "outlinewidth": 0,
              "ticks": ""
             }
            },
            "type": "scatterternary"
           }
          ],
          "surface": [
           {
            "colorbar": {
             "outlinewidth": 0,
             "ticks": ""
            },
            "colorscale": [
             [
              0,
              "#0d0887"
             ],
             [
              0.1111111111111111,
              "#46039f"
             ],
             [
              0.2222222222222222,
              "#7201a8"
             ],
             [
              0.3333333333333333,
              "#9c179e"
             ],
             [
              0.4444444444444444,
              "#bd3786"
             ],
             [
              0.5555555555555556,
              "#d8576b"
             ],
             [
              0.6666666666666666,
              "#ed7953"
             ],
             [
              0.7777777777777778,
              "#fb9f3a"
             ],
             [
              0.8888888888888888,
              "#fdca26"
             ],
             [
              1,
              "#f0f921"
             ]
            ],
            "type": "surface"
           }
          ],
          "table": [
           {
            "cells": {
             "fill": {
              "color": "#EBF0F8"
             },
             "line": {
              "color": "white"
             }
            },
            "header": {
             "fill": {
              "color": "#C8D4E3"
             },
             "line": {
              "color": "white"
             }
            },
            "type": "table"
           }
          ]
         },
         "layout": {
          "annotationdefaults": {
           "arrowcolor": "#2a3f5f",
           "arrowhead": 0,
           "arrowwidth": 1
          },
          "autotypenumbers": "strict",
          "coloraxis": {
           "colorbar": {
            "outlinewidth": 0,
            "ticks": ""
           }
          },
          "colorscale": {
           "diverging": [
            [
             0,
             "#8e0152"
            ],
            [
             0.1,
             "#c51b7d"
            ],
            [
             0.2,
             "#de77ae"
            ],
            [
             0.3,
             "#f1b6da"
            ],
            [
             0.4,
             "#fde0ef"
            ],
            [
             0.5,
             "#f7f7f7"
            ],
            [
             0.6,
             "#e6f5d0"
            ],
            [
             0.7,
             "#b8e186"
            ],
            [
             0.8,
             "#7fbc41"
            ],
            [
             0.9,
             "#4d9221"
            ],
            [
             1,
             "#276419"
            ]
           ],
           "sequential": [
            [
             0,
             "#0d0887"
            ],
            [
             0.1111111111111111,
             "#46039f"
            ],
            [
             0.2222222222222222,
             "#7201a8"
            ],
            [
             0.3333333333333333,
             "#9c179e"
            ],
            [
             0.4444444444444444,
             "#bd3786"
            ],
            [
             0.5555555555555556,
             "#d8576b"
            ],
            [
             0.6666666666666666,
             "#ed7953"
            ],
            [
             0.7777777777777778,
             "#fb9f3a"
            ],
            [
             0.8888888888888888,
             "#fdca26"
            ],
            [
             1,
             "#f0f921"
            ]
           ],
           "sequentialminus": [
            [
             0,
             "#0d0887"
            ],
            [
             0.1111111111111111,
             "#46039f"
            ],
            [
             0.2222222222222222,
             "#7201a8"
            ],
            [
             0.3333333333333333,
             "#9c179e"
            ],
            [
             0.4444444444444444,
             "#bd3786"
            ],
            [
             0.5555555555555556,
             "#d8576b"
            ],
            [
             0.6666666666666666,
             "#ed7953"
            ],
            [
             0.7777777777777778,
             "#fb9f3a"
            ],
            [
             0.8888888888888888,
             "#fdca26"
            ],
            [
             1,
             "#f0f921"
            ]
           ]
          },
          "colorway": [
           "#636efa",
           "#EF553B",
           "#00cc96",
           "#ab63fa",
           "#FFA15A",
           "#19d3f3",
           "#FF6692",
           "#B6E880",
           "#FF97FF",
           "#FECB52"
          ],
          "font": {
           "color": "#2a3f5f"
          },
          "geo": {
           "bgcolor": "white",
           "lakecolor": "white",
           "landcolor": "#E5ECF6",
           "showlakes": true,
           "showland": true,
           "subunitcolor": "white"
          },
          "hoverlabel": {
           "align": "left"
          },
          "hovermode": "closest",
          "mapbox": {
           "style": "light"
          },
          "paper_bgcolor": "white",
          "plot_bgcolor": "#E5ECF6",
          "polar": {
           "angularaxis": {
            "gridcolor": "white",
            "linecolor": "white",
            "ticks": ""
           },
           "bgcolor": "#E5ECF6",
           "radialaxis": {
            "gridcolor": "white",
            "linecolor": "white",
            "ticks": ""
           }
          },
          "scene": {
           "xaxis": {
            "backgroundcolor": "#E5ECF6",
            "gridcolor": "white",
            "gridwidth": 2,
            "linecolor": "white",
            "showbackground": true,
            "ticks": "",
            "zerolinecolor": "white"
           },
           "yaxis": {
            "backgroundcolor": "#E5ECF6",
            "gridcolor": "white",
            "gridwidth": 2,
            "linecolor": "white",
            "showbackground": true,
            "ticks": "",
            "zerolinecolor": "white"
           },
           "zaxis": {
            "backgroundcolor": "#E5ECF6",
            "gridcolor": "white",
            "gridwidth": 2,
            "linecolor": "white",
            "showbackground": true,
            "ticks": "",
            "zerolinecolor": "white"
           }
          },
          "shapedefaults": {
           "line": {
            "color": "#2a3f5f"
           }
          },
          "ternary": {
           "aaxis": {
            "gridcolor": "white",
            "linecolor": "white",
            "ticks": ""
           },
           "baxis": {
            "gridcolor": "white",
            "linecolor": "white",
            "ticks": ""
           },
           "bgcolor": "#E5ECF6",
           "caxis": {
            "gridcolor": "white",
            "linecolor": "white",
            "ticks": ""
           }
          },
          "title": {
           "x": 0.05
          },
          "xaxis": {
           "automargin": true,
           "gridcolor": "white",
           "linecolor": "white",
           "ticks": "",
           "title": {
            "standoff": 15
           },
           "zerolinecolor": "white",
           "zerolinewidth": 2
          },
          "yaxis": {
           "automargin": true,
           "gridcolor": "white",
           "linecolor": "white",
           "ticks": "",
           "title": {
            "standoff": 15
           },
           "zerolinecolor": "white",
           "zerolinewidth": 2
          }
         }
        },
        "xaxis": {
         "anchor": "y",
         "domain": [
          0,
          1
         ],
         "type": "date"
        },
        "yaxis": {
         "anchor": "x",
         "autorange": "reversed",
         "categoryarray": [
          "machine10",
          "machine9",
          "machine8",
          "machine7",
          "machine6",
          "machine5",
          "machine4",
          "machine3",
          "machine2",
          "machine1",
          "machine0"
         ],
         "categoryorder": "array",
         "domain": [
          0,
          1
         ],
         "title": {
          "text": "Machine"
         }
        }
       }
      }
     },
     "metadata": {},
     "output_type": "display_data"
    }
   ],
   "source": [
    "import plotly.express as px\n",
    "import pandas as pd\n",
    "from datetime import datetime, timedelta\n",
    "\n",
    "colors = [\n",
    "    \"red\", \"green\", \"blue\", \"orange\", \"purple\", \"yellow\", \"brown\", \"pink\", \n",
    "    \"black\", \"white\", \"gray\", \"cyan\", \"magenta\", \"lime\", \"olive\", \"navy\", \n",
    "    \"teal\", \"maroon\", \"aqua\", \"fuchsia\", \"silver\", \"gold\", \"indigo\", \n",
    "    \"violet\", \"coral\", \"salmon\", \"khaki\", \"plum\", \"orchid\", \"turquoise\"\n",
    "]\n",
    "\n",
    "def drawGanttChart(chromosome):\n",
    "    \n",
    "    # OperationCounter shows how many times of operation have been done\n",
    "    # jobEndCounter shows the time that last Ji ends\n",
    "    # machineTimeCounter shows the time that last job ends\n",
    "    # sortedDemands shows the number of jobs rest to be done in required order (urgency)\n",
    "    operationCounter = Counter()\n",
    "    jobEndCounter = Counter()\n",
    "    machineTimeCounter = Counter()\n",
    "    \n",
    "    now = datetime.now()\n",
    "    chartList = []\n",
    "    for jobIteration in chromosome:\n",
    "        jobNum = jobIteration[0]\n",
    "        machineNumber = jobIteration[1]\n",
    "        \n",
    "        # calculate the duration of that specific operation\n",
    "        operationsDictList = data[jobNum][operationCounter[jobNum]]\n",
    "        duration = [i[\"processTime\"] for i in operationsDictList if i[\"machineNumber\"] == machineNumber][0]\n",
    "         \n",
    "        # update the counter\n",
    "        machineTimeCounter[machineNumber] = max(machineTimeCounter[machineNumber], jobEndCounter[jobNum])\n",
    "        startTime = now + timedelta(minutes = machineTimeCounter[machineNumber])\n",
    "        machineTimeCounter[machineNumber] += duration\n",
    "        endTime = now + timedelta(minutes = machineTimeCounter[machineNumber])\n",
    "        jobEndCounter[jobNum] = machineTimeCounter[machineNumber]\n",
    "        operationCounter[jobNum] += 1\n",
    "        \n",
    "        chartList.append(dict(Machine=f\"Machine{machineNumber}\",Job = f\"{jobNum}\", Start = startTime, Finish = endTime, Color= f\"{colors[jobNum]}\"))\n",
    "        \n",
    "        # if one job is finished (all operation has been done), then restart counting\n",
    "        if operationCounter[jobNum] == len(data[jobNum]):\n",
    "            operationCounter[jobNum] = 0\n",
    "                    \n",
    "    df = pd.DataFrame(chartList)\n",
    "    fig = px.timeline(df, x_start=\"Start\", x_end=\"Finish\", y=\"Machine\", text=\"Job\",color=\"Color\",\n",
    "                      category_orders={\"Machine\": [\"machine0\", \"machine1\", \"machine2\", \"machine3\", \"machine4\", \"machine5\", \"machine6\", \"machine7\", \"machine8\", \"machine9\", \"machine10\"]})\n",
    "    fig.update_yaxes(autorange=\"reversed\") # otherwise tasks are listed from the bottom up\n",
    "    fig.update_traces(textposition='inside')\n",
    "    fig.show()\n",
    "    \n",
    "drawGanttChart(elitismIndividualDF.iloc[0,0])"
   ]
  }
 ],
 "metadata": {
  "kernelspec": {
   "display_name": "Python 3",
   "language": "python",
   "name": "python3"
  },
  "language_info": {
   "codemirror_mode": {
    "name": "ipython",
    "version": 3
   },
   "file_extension": ".py",
   "mimetype": "text/x-python",
   "name": "python",
   "nbconvert_exporter": "python",
   "pygments_lexer": "ipython3",
   "version": "3.12.4"
  }
 },
 "nbformat": 4,
 "nbformat_minor": 2
}
