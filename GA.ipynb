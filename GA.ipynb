{
 "cells": [
  {
   "cell_type": "code",
   "execution_count": 20,
   "metadata": {},
   "outputs": [],
   "source": [
    "import numpy as np\n",
    "import pandas as pd"
   ]
  },
  {
   "cell_type": "markdown",
   "metadata": {},
   "source": [
    "## Hyper Parameter"
   ]
  },
  {
   "cell_type": "code",
   "execution_count": null,
   "metadata": {},
   "outputs": [],
   "source": [
    "POP_SIZE = 30"
   ]
  },
  {
   "cell_type": "markdown",
   "metadata": {},
   "source": [
    "## Data Preparation"
   ]
  },
  {
   "cell_type": "code",
   "execution_count": 21,
   "metadata": {},
   "outputs": [
    {
     "name": "stdout",
     "output_type": "stream",
     "text": [
      "numJobs = 10, numMachines = 10\n",
      "number of first job's operation = 10\n",
      "number of machine that first job's operation can use = 5\n",
      "[{'macineNumber': '2', 'processTime': '88'}, {'macineNumber': '3', 'processTime': '88'}, {'macineNumber': '5', 'processTime': '88'}, {'macineNumber': '9', 'processTime': '88'}, {'macineNumber': '10', 'processTime': '88'}]\n"
     ]
    },
    {
     "name": "stderr",
     "output_type": "stream",
     "text": [
      "<>:1: SyntaxWarning: invalid escape sequence '\\H'\n",
      "<>:1: SyntaxWarning: invalid escape sequence '\\H'\n",
      "C:\\Users\\okumo\\AppData\\Local\\Temp\\ipykernel_16816\\644666744.py:1: SyntaxWarning: invalid escape sequence '\\H'\n",
      "  with open (\"Dataset\\Hurink_Data\\\\vdata\\\\abz5.fjs\",\"r\") as file:\n"
     ]
    }
   ],
   "source": [
    "with open (\"Dataset\\Hurink_Data\\\\vdata\\\\abz5.fjs\",\"r\") as file:\n",
    "    firstLine = file.readline()\n",
    "    firstLineValues = [int(i) for i in firstLine.split()[0:2]]\n",
    "    NUM_JOBS = firstLineValues[0] \n",
    "    NUM_MACHINES = firstLineValues[1]\n",
    "    print(f\"numJobs = {NUM_JOBS}, numMachines = {NUM_MACHINES}\")\n",
    "    \n",
    "    data = []\n",
    "    job_index = 0   \n",
    "    for txts in file.readlines():\n",
    "        job = []\n",
    "        operations = txts.split()[1:]\n",
    "        index = 0\n",
    "        while index < len(operations):\n",
    "            operation = []\n",
    "            numberOfOperation = int(operations[index])\n",
    "            index += 1\n",
    "            endOperationIndex = numberOfOperation*2 + index\n",
    "            while index < endOperationIndex:\n",
    "                operation.append({\"macineNumber\": operations[index], \"processTime\": operations[index+1]})\n",
    "                index += 2\n",
    "            job.append(operation)\n",
    "        data.append(job)\n",
    "    \n",
    "# data = [job1, job2, .... ]\n",
    "# job1 = , [op1, op2, op3, ....]\n",
    "# op1 = [{macineNumber: , processTime: },{machineNumber: , processTime: }...]\n",
    "print(f\"number of first job's operation = {len(data[0])}\")\n",
    "print(f\"number of machine that first job's operation can use = {len(data[0][0])}\")\n",
    "print(data[0][0])"
   ]
  },
  {
   "cell_type": "markdown",
   "metadata": {},
   "source": [
    "## Encoding"
   ]
  },
  {
   "cell_type": "code",
   "execution_count": 22,
   "metadata": {},
   "outputs": [],
   "source": [
    "# Initial population = [(J1, M3), (J1, M4), (J2, M1), (J3, M2), (J1, M1), ...]\n",
    "# meaning J1 first operation use Machine 3 -> J2 first operation use Machine 4  -> J1 second operation......\n",
    "\n",
    "# Because different JObs could have different\n",
    "def initialize_population(NUM_JOBS):\n",
    "    # Create an array with numbers 1 to 10 repeated 10 times\n",
    "    base_array = np.tile(np.arange(1, ), NUM_JOBS) \n",
    "    population = []\n",
    "    for _ in range(POP_SIZE):\n",
    "        individual = np.random.permutation(base_array)\n",
    "        population.append(individual)\n",
    "    return population"
   ]
  }
 ],
 "metadata": {
  "kernelspec": {
   "display_name": "Python 3",
   "language": "python",
   "name": "python3"
  },
  "language_info": {
   "codemirror_mode": {
    "name": "ipython",
    "version": 3
   },
   "file_extension": ".py",
   "mimetype": "text/x-python",
   "name": "python",
   "nbconvert_exporter": "python",
   "pygments_lexer": "ipython3",
   "version": "3.12.1"
  }
 },
 "nbformat": 4,
 "nbformat_minor": 2
}
