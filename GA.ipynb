{
 "cells": [
  {
   "cell_type": "code",
   "execution_count": 101,
   "metadata": {},
   "outputs": [
    {
     "name": "stdout",
     "output_type": "stream",
     "text": [
      "\n",
      "\u001b[1m[\u001b[0m\u001b[34;49mnotice\u001b[0m\u001b[1;39;49m]\u001b[0m\u001b[39;49m A new release of pip is available: \u001b[0m\u001b[31;49m24.0\u001b[0m\u001b[39;49m -> \u001b[0m\u001b[32;49m24.2\u001b[0m\n",
      "\u001b[1m[\u001b[0m\u001b[34;49mnotice\u001b[0m\u001b[1;39;49m]\u001b[0m\u001b[39;49m To update, run: \u001b[0m\u001b[32;49mpip3 install --upgrade pip\u001b[0m\n",
      "Note: you may need to restart the kernel to use updated packages.\n",
      "\n",
      "\u001b[1m[\u001b[0m\u001b[34;49mnotice\u001b[0m\u001b[1;39;49m]\u001b[0m\u001b[39;49m A new release of pip is available: \u001b[0m\u001b[31;49m24.0\u001b[0m\u001b[39;49m -> \u001b[0m\u001b[32;49m24.2\u001b[0m\n",
      "\u001b[1m[\u001b[0m\u001b[34;49mnotice\u001b[0m\u001b[1;39;49m]\u001b[0m\u001b[39;49m To update, run: \u001b[0m\u001b[32;49mpip3 install --upgrade pip\u001b[0m\n",
      "Note: you may need to restart the kernel to use updated packages.\n"
     ]
    }
   ],
   "source": [
    "%pip install pandas -q\n",
    "%pip install numpy -q\n",
    "\n",
    "import numpy as np\n",
    "import pandas as pd\n",
    "import random\n",
    "from collections import Counter"
   ]
  },
  {
   "cell_type": "markdown",
   "metadata": {},
   "source": [
    "## Data Preparation"
   ]
  },
  {
   "cell_type": "code",
   "execution_count": 102,
   "metadata": {},
   "outputs": [
    {
     "name": "stdout",
     "output_type": "stream",
     "text": [
      "numJobs = 10, numMachines = 10\n",
      "number of first job's operation = 10\n",
      "number of machine that first job's operation can use = 5\n"
     ]
    }
   ],
   "source": [
    "with open (\"Dataset/Hurink_Data/vdata/abz5.fjs\",\"r\") as file:\n",
    "    firstLine = file.readline()\n",
    "    firstLineValues = [int(i) for i in firstLine.split()[0:2]]\n",
    "    NUM_JOBS = firstLineValues[0] \n",
    "    NUM_MACHINES = firstLineValues[1]\n",
    "    print(f\"numJobs = {NUM_JOBS}, numMachines = {NUM_MACHINES}\")\n",
    "    \n",
    "    data = []\n",
    "    job_index = 0   \n",
    "    for txts in file.readlines():\n",
    "        job = []\n",
    "        operations = txts.split()[1:]\n",
    "        index = 0\n",
    "        while index < len(operations):\n",
    "            operation = []\n",
    "            numberOfOperation = int(operations[index])\n",
    "            index += 1\n",
    "            endOperationIndex = numberOfOperation*2 + index\n",
    "            while index < endOperationIndex:\n",
    "                operation.append({\"machineNumber\": int(operations[index]), \"processTime\": int(operations[index+1])})\n",
    "                index += 2\n",
    "            job.append(operation)\n",
    "        data.append(job)\n",
    "    \n",
    "# data = [job0, job1, .... ]\n",
    "# job1 = , [op0, op1, op2, ....]\n",
    "# op1 = [{macineNumber: , processTime: },{machineNumber: , processTime: }...]\n",
    "print(f\"number of first job's operation = {len(data[0])}\")\n",
    "print(f\"number of machine that first job's operation can use = {len(data[0][0])}\")"
   ]
  },
  {
   "cell_type": "markdown",
   "metadata": {},
   "source": [
    "## Hyper Parameter"
   ]
  },
  {
   "cell_type": "code",
   "execution_count": 103,
   "metadata": {},
   "outputs": [],
   "source": [
    "POP_SIZE = 2\n",
    "MUTATION_RATE = 0.3\n",
    "CROSSOVER_RATE = 0.5\n",
    "MAX_ITERATION = 400\n",
    "NUMBER_OF_ELITISM_SURVIVORS = 2\n",
    "NUMBER_OF_TOURNAMENT_COMPETITORS = 4"
   ]
  },
  {
   "cell_type": "markdown",
   "metadata": {},
   "source": [
    "## Encoding"
   ]
  },
  {
   "cell_type": "code",
   "execution_count": 104,
   "metadata": {},
   "outputs": [],
   "source": [
    "# Initial population = [[J0, M3], [J0, M4], [J2, M1], [J3, M2], [J0, M1], ...]\n",
    "# meaning J1 first operation use Machine 3 -> J2 first operation use Machine 4  -> J1 second operation......\n",
    "\n",
    "def generateInitailPopulation():\n",
    "    # create all jobs with specific number of operations\n",
    "    # because different Jobs could have different number of operations\n",
    "    base_array = []\n",
    "    for index in range(len(data)):   \n",
    "        base_array.extend(np.tile(index, len(data[index])))\n",
    "    \n",
    "    population = []\n",
    "    # random choose that jobs operation for\n",
    "    for _ in range(POP_SIZE):\n",
    "        # how many operations have done\n",
    "        c = Counter()\n",
    "        individual = []\n",
    "        base_array = np.random.permutation(base_array)\n",
    "        for job in base_array:\n",
    "            machine = random.choice(data[job][c[job]])\n",
    "            c[job]+=1\n",
    "            individual.append([job, machine[\"machineNumber\"]])\n",
    "        population.append(individual)\n",
    "    return population"
   ]
  },
  {
   "cell_type": "markdown",
   "metadata": {},
   "source": [
    "## Fitness Evaluation"
   ]
  },
  {
   "cell_type": "code",
   "execution_count": 105,
   "metadata": {},
   "outputs": [],
   "source": [
    "def evaluateFitnessScore(individual):\n",
    "    \n",
    "    # Job shows how many times of operation have been done\n",
    "    # Job_end shows the time that last Ji ends\n",
    "    # machine time shows the time that last job ends\n",
    "    jobCounter = Counter()\n",
    "    jobEndCounter = Counter()\n",
    "    machineTimeCounter = Counter()\n",
    "    \n",
    "    for jobIteration in individual:\n",
    "        jobNumber = jobIteration[0]\n",
    "        machineNumber = jobIteration[1]\n",
    "        \n",
    "        # calculate the duration of that specific operation\n",
    "        operationsDictList = data[jobNumber][jobCounter[jobNumber]]\n",
    "        duration = [i[\"processTime\"] for i in operationsDictList if i[\"machineNumber\"] == machineNumber][0]\n",
    "         \n",
    "        # update the counter\n",
    "        machineTimeCounter[machineNumber] = max(machineTimeCounter[machineNumber], jobEndCounter[jobNumber])\n",
    "        machineTimeCounter[machineNumber] += duration\n",
    "        jobEndCounter[jobNumber] = machineTimeCounter[machineNumber]\n",
    "        jobCounter[jobNumber] += 1\n",
    "        \n",
    "    # calcualte makespan & tardiness\n",
    "    makespan = jobEndCounter.most_common(1)[0][1]\n",
    "    return makespan"
   ]
  },
  {
   "cell_type": "markdown",
   "metadata": {},
   "source": [
    "## Selection"
   ]
  },
  {
   "cell_type": "code",
   "execution_count": null,
   "metadata": {},
   "outputs": [],
   "source": [
    "# Tournament method\n",
    "def selection(populatoin_with_makespan ,number_of_competitors):\n",
    "    population = populatoin_with_makespan[\"population\"]\n",
    "    makespan = populatoin_with_makespan[\"makespan\"]\n",
    "    selected = []\n",
    "    for _ in range(POP_SIZE):\n",
    "        # note: I decide to user random sample instead of permutation to increase diversity\n",
    "        competitors = np.random.permutation(len(population))[:NUMBER_OF_TOURNAMENT_COMPETITORS]\n",
    "        \n",
    "        v = max(makespan[i] for i in competitors)\n",
    "        for i in competitors:\n",
    "            if makespan[i]==v:\n",
    "                selected.append([population[i], makespan[i]])\n",
    "                break\n",
    "        \n",
    "    return pd.DataFrame(selected,columns=[\"population\", \"makespan\"])"
   ]
  },
  {
   "cell_type": "markdown",
   "metadata": {},
   "source": [
    "##  Crossover & Mutation"
   ]
  },
  {
   "cell_type": "code",
   "execution_count": null,
   "metadata": {},
   "outputs": [],
   "source": [
    "def crossover():\n",
    "    return\n",
    "\n",
    "\n",
    "def mutate():\n",
    "    return"
   ]
  },
  {
   "cell_type": "markdown",
   "metadata": {},
   "source": [
    "## Elitism Strategy"
   ]
  },
  {
   "cell_type": "code",
   "execution_count": null,
   "metadata": {},
   "outputs": [],
   "source": [
    "def elitism_strategy(population, number_of_survivors):\n",
    "    sorted_df = population.sort_values(by=[\"makespan\"], ascending=[True])\n",
    "    survivors_df = sorted_df.head(number_of_survivors)\n",
    "    return survivors_df"
   ]
  },
  {
   "cell_type": "markdown",
   "metadata": {},
   "source": [
    "## Main Function"
   ]
  },
  {
   "cell_type": "code",
   "execution_count": 107,
   "metadata": {},
   "outputs": [],
   "source": [
    "iteration = 0\n",
    "scored_population = []\n",
    "population_list = []\n",
    "line_graph_data = []\n",
    "best_graph_data = []\n",
    "selected_population = []\n",
    "best_of_all = pd.DataFrame(columns=[\"population\", \"makespan\"])\n",
    "while(iteration <= MAX_ITERATION):\n",
    "    \n",
    "    if len(population_list) == 0 :\n",
    "        population_list = generateInitailPopulation()\n",
    "    else:\n",
    "        population_list = sorted_population[\"population\"]\n",
    "  \n",
    "    for individual in population_list:\n",
    "        makespan= evaluateFitnessScore(individual)\n",
    "        scored_population.append([individual, makespan])\n",
    "\n",
    "    selected_population = selection(pd.DataFrame(unscored_population,columns=[\"population\", \"makespan\"]),pop_size ,num_tournament_competitors)\n",
    "\n",
    "    # crossover & mutation \n",
    "    size = len(selected_population)\n",
    "    for i in range(size):\n",
    "        if random.random() < CROSSOVER_RATE:\n",
    "            random_pick_index = random.randrange(0, size)\n",
    "            offsprings =crossover(selected_population[\"population\"].iloc[i], selected_population[\"population\"].iloc[random_pick_index])\n",
    "            for offspring in offsprings:\n",
    "                mkspn= evaluateFitnessScore(offspring)\n",
    "                new_row = pd.DataFrame({\n",
    "                    'population': [offspring],\n",
    "                    'makespan': mkspn,\n",
    "                })\n",
    "                selected_population = pd.concat([selected_population,new_row],ignore_index=True)\n",
    "            \n",
    "        if random.random() < MUTATION_RATE: \n",
    "            offspring = mutate(selected_population[\"population\"].iloc[i])\n",
    "            mkspn= evaluateFitnessScore(offspring)\n",
    "            new_row = pd.DataFrame({\n",
    "                    'population': [offspring],\n",
    "                    'makespan': mkspn,\n",
    "                })\n",
    "            selected_population = pd.concat([selected_population,new_row],ignore_index=True)\n",
    "    \n",
    "    print(f\"interation: {iteration}\")\n",
    "    iteration+=1\n",
    "    print(f\"current population size: {len(selected_population)}\")\n",
    "    \n",
    "    # sort by makespan (ascending)\n",
    "    sorted_population = elitism_strategy(pd.DataFrame(selected_population), num_elitism_survivors)\n",
    "    \n",
    "    # show the current best result of all\n",
    "    top_ranked_df = pd.DataFrame(sorted_population.head(1))\n",
    "    if (best_of_all.shape[0] == 0) or (top_ranked_df['makespan'].values < best_of_all['makespan'].values):\n",
    "        best_of_all = top_ranked_df\n",
    "    \n",
    "    line_graph_data.append(top_ranked_df['makespan'].values[0])\n",
    "    best_graph_data.append(best_of_all['makespan'].values[0])\n",
    "    print(f\"makespan: {top_ranked_df['makespan'].values[0]}\")\n",
    "    print(f\"BEST makespan: {best_of_all['makespan'].values[0]}\\n\")\n",
    "    \n",
    "    \n",
    "\n"
   ]
  },
  {
   "cell_type": "code",
   "execution_count": null,
   "metadata": {},
   "outputs": [],
   "source": [
    "import matplotlib.pyplot as plt\n",
    "\n",
    "makespan_data = line_graph_data\n",
    "best_makespan_data = best_graph_data\n",
    "\n",
    "x_axis = range(len(line_graph_data))\n",
    "\n",
    "plt.figure(figsize=(10, 6))\n",
    "plt.plot(x_axis, makespan_data, label='makespan')\n",
    "plt.plot(x_axis, best_makespan_data, label='best_makespan')\n",
    "plt.xlabel('Period')\n",
    "plt.ylabel('Value')\n",
    "plt.title('Trend of Makespan')\n",
    "plt.legend()\n",
    "plt.grid(True)\n",
    "plt.show()"
   ]
  }
 ],
 "metadata": {
  "kernelspec": {
   "display_name": "Python 3",
   "language": "python",
   "name": "python3"
  },
  "language_info": {
   "codemirror_mode": {
    "name": "ipython",
    "version": 3
   },
   "file_extension": ".py",
   "mimetype": "text/x-python",
   "name": "python",
   "nbconvert_exporter": "python",
   "pygments_lexer": "ipython3",
   "version": "3.12.4"
  }
 },
 "nbformat": 4,
 "nbformat_minor": 2
}
